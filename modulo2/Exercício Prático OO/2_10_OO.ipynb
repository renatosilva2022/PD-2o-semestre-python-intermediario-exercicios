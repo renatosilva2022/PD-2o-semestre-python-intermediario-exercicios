{
  "cells": [
    {
      "cell_type": "markdown",
      "metadata": {
        "id": "n6-m3gKDFLtf"
      },
      "source": [
        "> Projeto Desenvolve <br>\n",
        "Programação Intermediária com Python <br>\n",
        "Profa. Camila Laranjeira (mila@projetodesenvolve.com.br) <br>\n",
        "\n",
        "# 2.5 a 2.10 - Pilares da OO"
      ]
    },
    {
      "cell_type": "markdown",
      "metadata": {
        "id": "YcCfrg15FLtk"
      },
      "source": [
        "## Exercícios\n",
        "\n",
        "#### Q1.\n",
        "Essa lista de exercícios terá como base a classe `Evento` criada em exercícios anteriores. Primeiramente criaremos a classe abstrata `EventoABC` com os métodos de instância abstratos `__str__(self)` e `isConcluido(self)`, indicando que todos as subclasses que dela herdarem devem implementar esses métodos.\n",
        "\n",
        "`EventoABC` também possui os atributos `_titulo` (string) e `_descricao` (string), cujos valores são recebidos e inicializados no construtor da classe. Note a convenção de nomenclatura indicando o caráter privado desses atributos."
      ]
    },
    {
      "cell_type": "code",
      "execution_count": 5,
      "metadata": {
        "id": "Kg7Rz9gVFLto"
      },
      "outputs": [],
      "source": [
        "from abc import ABC, abstractmethod\n",
        "\n",
        "class EventoABC(ABC):\n",
        "    def __init__(self, titulo:str, descricao: str):\n",
        "        self._titulo= titulo\n",
        "        self._descricao= descricao\n",
        "    @abstractmethod\n",
        "    def __str__(self):\n",
        "        pass\n",
        "    @abstractmethod\n",
        "    def isConcluido(self) -> bool:\n",
        "        pass\n"
      ]
    },
    {
      "cell_type": "markdown",
      "metadata": {
        "vscode": {
          "languageId": "plaintext"
        },
        "id": "RKcrOgm4FLtq"
      },
      "source": [
        "#### Q2.\n",
        "\n",
        "Crie a classe `DataHora` que dará suporte ao registro de eventos de calendário.\n",
        "* A classe possui o atributo de instância `_data_hora` (datetime) privado e um atributo de classe `FORMAT` inicializado com a formatação de string aceito para `_data_hora`, ou seja, `FORMAT = '%d/%m/%Y, %H:%M'`.\n",
        "* A classe **não possui construtor customizado**. A alteração de seu atributo se dará a partir da propriedade a seguir.\n",
        "* Crie a `property` `data_hora` para manipular o atributo `_data_hora`.\n",
        "    * O getter da propriedade deve retornar a data como uma string formatada (`%d/%m/%Y, %H:%M`). Use o atributo `FORMAT`. Consulte o [funcionamento do método `strftime`](https://www.programiz.com/python-programming/datetime/strftime).\n",
        "    * O setter da propriedade deve receber uma string de data formatada (`%d/%m/%Y, %H:%M`) e implementar um bloco try-except que tenta converter a string em `datetime` e lança um `ValueError` caso a entrada seja inválida. Use o atributo `FORMAT`. Consulte o [funcionamento do método `strptime`](https://www.digitalocean.com/community/tutorials/python-string-to-datetime-strptime).\n",
        "* Crie o método de instância `isPassado(self)` que avalia se a `_data_hora` é menor que `datetime.now()` (a data e hora atual) e retorna `True` em caso positivo, e `False` caso contrário.\n",
        "* Crie o método de instância `somaDias(self, num_dias)` que recebe um inteiro `num_dias`, soma esse valor ao atributo interno `_data_hora` e retorna a string formatada do resultado da soma (código dado a seguir).   \n",
        "```python\n",
        "data_hora_somada = self._data_hora + datetime.timedelta(days=num_dias)\n",
        "return data_hora_somada.strftime(FORMAT)\n",
        "```\n",
        "\n",
        "Teste a classe `DataHora` com o seguinte código (altere o que for necessário):\n",
        "```python\n",
        "# instanciando o objeto\n",
        "dh = DataHora()\n",
        "\n",
        "# definindo a data_hora através da propriedade\n",
        "dh.data_hora = '05/02/2024, 12:30'\n",
        "\n",
        "## editando a data_hora através da função somaDias\n",
        "dh.data_hora = dh.somaDias(30)\n",
        "\n",
        "## imprimindo a data_hora editada e se é passado\n",
        "print(dh.data_hora, dh.isPassado())\n",
        "```"
      ]
    },
    {
      "cell_type": "code",
      "execution_count": 4,
      "metadata": {
        "colab": {
          "base_uri": "https://localhost:8080/"
        },
        "id": "ExrgTFo0FLtt",
        "outputId": "c50b4514-6dd8-412a-d713-ae2dea934b09"
      },
      "outputs": [
        {
          "output_type": "stream",
          "name": "stdout",
          "text": [
            "06/03/2024, 12:30 True\n"
          ]
        }
      ],
      "source": [
        "from datetime import datetime, timedelta\n",
        "\n",
        "class DataHora:\n",
        "    FORMAT = '%d/%m/%Y, %H:%M'\n",
        "\n",
        "    def __init__(self):\n",
        "        self._data_hora= None\n",
        "    @property\n",
        "    def data_hora(self):\n",
        "        \"\"\"Getter para retornar a data e hora formatada como string.\"\"\"\n",
        "        if self._data_hora is not None:\n",
        "            return self._data_hora.strftime(self.FORMAT)\n",
        "        return None\n",
        "\n",
        "    @data_hora.setter\n",
        "    def data_hora(self, value):\n",
        "        \"\"\"Setter para definir a data e hora a partir de uma string formatada.\"\"\"\n",
        "        try:\n",
        "            self._data_hora = datetime.strptime(value, self.FORMAT)\n",
        "        except ValueError:\n",
        "            raise ValueError(f\"Data e hora inválidas. O formato esperado é '{self.FORMAT}'.\")\n",
        "    def isPassado(self):\n",
        "        \"\"\"Verifica se a data e hora é menor que a data e hora atual.\"\"\"\n",
        "        if self._data_hora is not None:\n",
        "            return self._data_hora < datetime.now()\n",
        "        return False\n",
        "    def somaDias(self, num_dias):\n",
        "        \"\"\"Soma um número de dias ao atributo _data_hora e retorna a string formatada.\"\"\"\n",
        "        if self._data_hora is not None:\n",
        "            data_hora_somada = self._data_hora + timedelta(days=num_dias)\n",
        "            return data_hora_somada.strftime(self.FORMAT)\n",
        "        raise ValueError(\"A data e hora não está definida.\")\n",
        "\n",
        "dh = DataHora()\n",
        "dh.data_hora= '05/02/2024, 12:30'\n",
        "dh.data_hora= dh.somaDias(30)\n",
        "print(dh.data_hora, dh.isPassado())\n"
      ]
    },
    {
      "cell_type": "markdown",
      "metadata": {
        "id": "Nde4YCb3FLtv"
      },
      "source": [
        "#### Q3.\n",
        "Crie a classe `EventoUnico`:\n",
        "* A classe deve herdar de `EventoABC`.\n",
        "* Possui o atributo de instância `_data_hora` (classe `DataHora` que criamos previamente).\n",
        "* Seu construtor deve receber e inicializar os atributos da superclasse, além do valor de `_data_hora` recebido como uma string formatada (`%d/%m/%Y, %H:%M`). Note que para alterar `_data_hora` (objeto tipo `DataHora`), você deve manipular a propriedade interna da classe.\n",
        "*  Implementa os métodos abstratos da superclasse:\n",
        "    * Método `isConcluido()` que invoca o método `isPassado()` de `_data_hora` e retorna o seu resultado.\n",
        "    * Método `__str__` que imprime os atributos do evento na forma `\"Evento: _titulo, Data: _data_hora, Descrição: _descricao, Concluido: isConcluido()\"`. Note que `isConcluido()` é o método de avaliação implementado.\n",
        "* Crie o método de instância `editar_data_hora` que recebe uma string formatada e altera `_data_hora` (através de sua propriedade interna).\n",
        "    \n",
        "    \n",
        "Teste a classe `EventoUnico` com o seguinte código:\n",
        "```python\n",
        "# criar evento\n",
        "evento = EventoUnico('Reunião', 'Sala 302, prédio da esquina', '05/10/2023, 16:30')\n",
        "print(evento)\n",
        "\n",
        "# editar data do evento (através da propriedade)\n",
        "evento.editar_data_hora('05/10/2024, 16:30')\n",
        "print(evento)\n",
        "```"
      ]
    },
    {
      "cell_type": "code",
      "execution_count": 3,
      "metadata": {
        "colab": {
          "base_uri": "https://localhost:8080/"
        },
        "id": "KO4hMghfFLtw",
        "outputId": "6e756087-eab5-416e-fe60-543cc52e5538"
      },
      "outputs": [
        {
          "output_type": "stream",
          "name": "stdout",
          "text": [
            "Evento: Reunião, Data: 05/10/2023, 16:30, Descrição: Sala 302, prédio da esquina, Concluido: True\n",
            "Evento: Reunião, Data: 05/10/2024, 16:30, Descrição: Sala 302, prédio da esquina, Concluido: True\n"
          ]
        }
      ],
      "source": [
        "class EventoUnico(EventoABC):\n",
        "    def __init__(self, titulo, descricao, data_hora_str):\n",
        "        super().__init__(titulo, descricao)\n",
        "        self._data_hora= DataHora()\n",
        "        self._data_hora.data_hora= data_hora_str\n",
        "    def isConcluido(self):\n",
        "        \"\"\"Avalia se o evento está concluído com base na data e hora.\"\"\"\n",
        "        return self._data_hora.isPassado()\n",
        "    def __str__(self):\n",
        "        \"\"\"Retorna a representação em string do evento.\"\"\"\n",
        "        return (f\"Evento: {self._titulo}, Data: {self._data_hora.data_hora}, \"\n",
        "                f\"Descrição: {self._descricao}, Concluido: {self.isConcluido()}\")\n",
        "    def editar_data_hora(self, nova_data_hora_str):\n",
        "        \"\"\"Edita a data e hora do evento usando a propriedade do atributo _data_hora.\"\"\"\n",
        "        self._data_hora.data_hora = nova_data_hora_str\n",
        "\n",
        "evento = EventoUnico('Reunião', 'Sala 302, prédio da esquina', '05/10/2023, 16:30')\n",
        "print(evento)\n",
        "evento.editar_data_hora('05/10/2024, 16:30')\n",
        "print(evento)\n"
      ]
    },
    {
      "cell_type": "markdown",
      "metadata": {
        "id": "73rR4RQKFLty"
      },
      "source": [
        "#### Q3.\n",
        "Crie a classe `EventoRecorrente`:\n",
        "* A classe deve herdar de `EventoABC`.\n",
        "* Possui como atributo próprio uma lista privada de objetos `DataHora` (como você deve nomear o atributo?).\n",
        "* Seu construtor recebe os atributos da superclasse, além dos atributos `data_hora_inicial` (string formatada), `data_hora_final` (string formatada) e `intervalo_repeticao` (int), sendo o intervalo dado em dias. Preencha a coleção `DataHora` de acordo com o intervalo de repetição fornecido. Dica: crie o objeto `DataHora` inicial e use sua função interna `somaDias` para criar iterativamente as novas instâncias do intervalo até chegar em `DataHora` final.\n",
        "*  Implementa os métodos abstratos da superclasse:\n",
        "    * Método `isConcluido(indice)` que que invoca o método `isPassado()` do elemento `indice` da coleção de objetos `DataHora` e retorna seu resultado.\n",
        "    * Método `__str__` que imprime (em um laço) **todos as ocorrências `i` do evento** na forma `\"Evento: _titulo, Data: data_hora[i], Descrição: _descricao, Concluido: isConcluido(i)\"`.\n",
        "* Crie o método `editar_data_hora` que recebe `data_hora_antiga` e `data_hora_nova` e altera o elemento da coleção de objetos `DataHora` que corresponde a `data_hora_antiga` fornecida.    \n",
        "\n",
        "\n",
        "Teste a classe `EventoRecorrente` com o seguinte código:\n",
        "```python\n",
        "# criar evento\n",
        "eventos = EventoRecorrente(\n",
        "    'Reunião', 'Sala 302, prédio da esquina',\n",
        "    '05/01/2024, 16:30', '05/01/2025, 16:30', 30)\n",
        "\n",
        "# imprimir eventos\n",
        "print(eventos)\n",
        "\n",
        "# editar um dos eventos\n",
        "eventos.editar_data_hora('05/12/2024, 16:30', '05/12/2024, 11:30')\n",
        "\n",
        "# imprimir eventos\n",
        "print(eventos)\n",
        "```"
      ]
    },
    {
      "cell_type": "code",
      "execution_count": 3,
      "metadata": {
        "id": "YkiPonrMFLtz"
      },
      "outputs": [],
      "source": [
        "\n",
        "\n"
      ]
    },
    {
      "cell_type": "markdown",
      "metadata": {
        "id": "k2sXwEW2FLt0"
      },
      "source": [
        "#### Q4.\n",
        "\n",
        "Por fim, vamos só ver o polimorfismo em ação. Crie e preencha uma lista de eventos, sendo alguns do tipo `EventoUnico` e outros do tipo `EventoRecorrente`. Sobre essa lista, execute o laço de impressão a seguir:\n",
        "```python\n",
        "for evento in lista_eventos: print(evento)\n",
        "```\n",
        "A função `print` irá invocar o método especial `__str__` das classes correspondentes dependendo do tipo do objeto recebido. Aí está o polimorfismo :)"
      ]
    },
    {
      "cell_type": "code",
      "execution_count": null,
      "metadata": {
        "id": "Tqrry7nYFLt1"
      },
      "outputs": [],
      "source": []
    }
  ],
  "metadata": {
    "kernelspec": {
      "display_name": "Python 3",
      "language": "python",
      "name": "python3"
    },
    "language_info": {
      "codemirror_mode": {
        "name": "ipython",
        "version": 3
      },
      "file_extension": ".py",
      "mimetype": "text/x-python",
      "name": "python",
      "nbconvert_exporter": "python",
      "pygments_lexer": "ipython3",
      "version": "3.12.8"
    },
    "colab": {
      "provenance": [],
      "toc_visible": true
    }
  },
  "nbformat": 4,
  "nbformat_minor": 0
}