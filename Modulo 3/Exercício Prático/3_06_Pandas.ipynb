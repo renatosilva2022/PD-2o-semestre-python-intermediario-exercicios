{
  "cells": [
    {
      "cell_type": "markdown",
      "metadata": {
        "id": "xV91V4twdZxU"
      },
      "source": [
        "> Projeto Desenvolve <br>\n",
        "Programação Intermediária com Python <br>\n",
        "Profa. Camila Laranjeira (mila@projetodesenvolve.com.br) <br>\n",
        "\n",
        "# 3.6 - Pandas"
      ]
    },
    {
      "cell_type": "markdown",
      "metadata": {
        "id": "Mp9IkMf0dZxY"
      },
      "source": [
        "## Exercícios\n",
        "Antes de continuar, baixe os arquivos das bases de dados de partidas em Copas do Mundo e salve na mesma pasta deste notebook.\n",
        "* https://raw.githubusercontent.com/camilalaranjeira/python-intermediario/main/fifa-wc/matches_1930_2022.csv\n",
        "* https://raw.githubusercontent.com/camilalaranjeira/python-intermediario/main/fifa-wc/matches_1991_2023.csv\n",
        "\n",
        "A célula a seguir já carrega os dados em CSV e ajusta as colunas para trabalharmos com os nomes traduzidos (como fizemos em aula)."
      ]
    },
    {
      "cell_type": "code",
      "execution_count": 1,
      "metadata": {
        "id": "bNyoK7sSdZxa",
        "outputId": "4487c94b-61f1-483e-b94a-38ddbf0cd468",
        "colab": {
          "base_uri": "https://localhost:8080/",
          "height": 365
        }
      },
      "outputs": [
        {
          "output_type": "error",
          "ename": "FileNotFoundError",
          "evalue": "[Errno 2] No such file or directory: 'matches_1991_2023.csv'",
          "traceback": [
            "\u001b[0;31m---------------------------------------------------------------------------\u001b[0m",
            "\u001b[0;31mFileNotFoundError\u001b[0m                         Traceback (most recent call last)",
            "\u001b[0;32m<ipython-input-1-b6b0e0fd63d9>\u001b[0m in \u001b[0;36m<cell line: 0>\u001b[0;34m()\u001b[0m\n\u001b[1;32m      3\u001b[0m \u001b[0mpd\u001b[0m\u001b[0;34m.\u001b[0m\u001b[0mset_option\u001b[0m\u001b[0;34m(\u001b[0m\u001b[0;34m'display.max_rows'\u001b[0m\u001b[0;34m,\u001b[0m\u001b[0;36m12\u001b[0m\u001b[0;34m)\u001b[0m\u001b[0;34m\u001b[0m\u001b[0;34m\u001b[0m\u001b[0m\n\u001b[1;32m      4\u001b[0m \u001b[0;34m\u001b[0m\u001b[0m\n\u001b[0;32m----> 5\u001b[0;31m \u001b[0mwcwomen_df\u001b[0m \u001b[0;34m=\u001b[0m \u001b[0mpd\u001b[0m\u001b[0;34m.\u001b[0m\u001b[0mread_csv\u001b[0m\u001b[0;34m(\u001b[0m\u001b[0;34m'matches_1991_2023.csv'\u001b[0m\u001b[0;34m)\u001b[0m\u001b[0;34m\u001b[0m\u001b[0;34m\u001b[0m\u001b[0m\n\u001b[0m\u001b[1;32m      6\u001b[0m \u001b[0mwcmen_df\u001b[0m   \u001b[0;34m=\u001b[0m \u001b[0mpd\u001b[0m\u001b[0;34m.\u001b[0m\u001b[0mread_csv\u001b[0m\u001b[0;34m(\u001b[0m\u001b[0;34m'matches_1930_2022.csv'\u001b[0m\u001b[0;34m)\u001b[0m\u001b[0;34m\u001b[0m\u001b[0;34m\u001b[0m\u001b[0m\n\u001b[1;32m      7\u001b[0m \u001b[0mwc\u001b[0m \u001b[0;34m=\u001b[0m \u001b[0mpd\u001b[0m\u001b[0;34m.\u001b[0m\u001b[0mconcat\u001b[0m\u001b[0;34m(\u001b[0m\u001b[0;34m(\u001b[0m\u001b[0mwcwomen_df\u001b[0m\u001b[0;34m,\u001b[0m\u001b[0mwcmen_df\u001b[0m\u001b[0;34m)\u001b[0m\u001b[0;34m)\u001b[0m\u001b[0;34m.\u001b[0m\u001b[0mreset_index\u001b[0m\u001b[0;34m(\u001b[0m\u001b[0;34m)\u001b[0m\u001b[0;34m\u001b[0m\u001b[0;34m\u001b[0m\u001b[0m\n",
            "\u001b[0;32m/usr/local/lib/python3.11/dist-packages/pandas/io/parsers/readers.py\u001b[0m in \u001b[0;36mread_csv\u001b[0;34m(filepath_or_buffer, sep, delimiter, header, names, index_col, usecols, dtype, engine, converters, true_values, false_values, skipinitialspace, skiprows, skipfooter, nrows, na_values, keep_default_na, na_filter, verbose, skip_blank_lines, parse_dates, infer_datetime_format, keep_date_col, date_parser, date_format, dayfirst, cache_dates, iterator, chunksize, compression, thousands, decimal, lineterminator, quotechar, quoting, doublequote, escapechar, comment, encoding, encoding_errors, dialect, on_bad_lines, delim_whitespace, low_memory, memory_map, float_precision, storage_options, dtype_backend)\u001b[0m\n\u001b[1;32m   1024\u001b[0m     \u001b[0mkwds\u001b[0m\u001b[0;34m.\u001b[0m\u001b[0mupdate\u001b[0m\u001b[0;34m(\u001b[0m\u001b[0mkwds_defaults\u001b[0m\u001b[0;34m)\u001b[0m\u001b[0;34m\u001b[0m\u001b[0;34m\u001b[0m\u001b[0m\n\u001b[1;32m   1025\u001b[0m \u001b[0;34m\u001b[0m\u001b[0m\n\u001b[0;32m-> 1026\u001b[0;31m     \u001b[0;32mreturn\u001b[0m \u001b[0m_read\u001b[0m\u001b[0;34m(\u001b[0m\u001b[0mfilepath_or_buffer\u001b[0m\u001b[0;34m,\u001b[0m \u001b[0mkwds\u001b[0m\u001b[0;34m)\u001b[0m\u001b[0;34m\u001b[0m\u001b[0;34m\u001b[0m\u001b[0m\n\u001b[0m\u001b[1;32m   1027\u001b[0m \u001b[0;34m\u001b[0m\u001b[0m\n\u001b[1;32m   1028\u001b[0m \u001b[0;34m\u001b[0m\u001b[0m\n",
            "\u001b[0;32m/usr/local/lib/python3.11/dist-packages/pandas/io/parsers/readers.py\u001b[0m in \u001b[0;36m_read\u001b[0;34m(filepath_or_buffer, kwds)\u001b[0m\n\u001b[1;32m    618\u001b[0m \u001b[0;34m\u001b[0m\u001b[0m\n\u001b[1;32m    619\u001b[0m     \u001b[0;31m# Create the parser.\u001b[0m\u001b[0;34m\u001b[0m\u001b[0;34m\u001b[0m\u001b[0m\n\u001b[0;32m--> 620\u001b[0;31m     \u001b[0mparser\u001b[0m \u001b[0;34m=\u001b[0m \u001b[0mTextFileReader\u001b[0m\u001b[0;34m(\u001b[0m\u001b[0mfilepath_or_buffer\u001b[0m\u001b[0;34m,\u001b[0m \u001b[0;34m**\u001b[0m\u001b[0mkwds\u001b[0m\u001b[0;34m)\u001b[0m\u001b[0;34m\u001b[0m\u001b[0;34m\u001b[0m\u001b[0m\n\u001b[0m\u001b[1;32m    621\u001b[0m \u001b[0;34m\u001b[0m\u001b[0m\n\u001b[1;32m    622\u001b[0m     \u001b[0;32mif\u001b[0m \u001b[0mchunksize\u001b[0m \u001b[0;32mor\u001b[0m \u001b[0miterator\u001b[0m\u001b[0;34m:\u001b[0m\u001b[0;34m\u001b[0m\u001b[0;34m\u001b[0m\u001b[0m\n",
            "\u001b[0;32m/usr/local/lib/python3.11/dist-packages/pandas/io/parsers/readers.py\u001b[0m in \u001b[0;36m__init__\u001b[0;34m(self, f, engine, **kwds)\u001b[0m\n\u001b[1;32m   1618\u001b[0m \u001b[0;34m\u001b[0m\u001b[0m\n\u001b[1;32m   1619\u001b[0m         \u001b[0mself\u001b[0m\u001b[0;34m.\u001b[0m\u001b[0mhandles\u001b[0m\u001b[0;34m:\u001b[0m \u001b[0mIOHandles\u001b[0m \u001b[0;34m|\u001b[0m \u001b[0;32mNone\u001b[0m \u001b[0;34m=\u001b[0m \u001b[0;32mNone\u001b[0m\u001b[0;34m\u001b[0m\u001b[0;34m\u001b[0m\u001b[0m\n\u001b[0;32m-> 1620\u001b[0;31m         \u001b[0mself\u001b[0m\u001b[0;34m.\u001b[0m\u001b[0m_engine\u001b[0m \u001b[0;34m=\u001b[0m \u001b[0mself\u001b[0m\u001b[0;34m.\u001b[0m\u001b[0m_make_engine\u001b[0m\u001b[0;34m(\u001b[0m\u001b[0mf\u001b[0m\u001b[0;34m,\u001b[0m \u001b[0mself\u001b[0m\u001b[0;34m.\u001b[0m\u001b[0mengine\u001b[0m\u001b[0;34m)\u001b[0m\u001b[0;34m\u001b[0m\u001b[0;34m\u001b[0m\u001b[0m\n\u001b[0m\u001b[1;32m   1621\u001b[0m \u001b[0;34m\u001b[0m\u001b[0m\n\u001b[1;32m   1622\u001b[0m     \u001b[0;32mdef\u001b[0m \u001b[0mclose\u001b[0m\u001b[0;34m(\u001b[0m\u001b[0mself\u001b[0m\u001b[0;34m)\u001b[0m \u001b[0;34m->\u001b[0m \u001b[0;32mNone\u001b[0m\u001b[0;34m:\u001b[0m\u001b[0;34m\u001b[0m\u001b[0;34m\u001b[0m\u001b[0m\n",
            "\u001b[0;32m/usr/local/lib/python3.11/dist-packages/pandas/io/parsers/readers.py\u001b[0m in \u001b[0;36m_make_engine\u001b[0;34m(self, f, engine)\u001b[0m\n\u001b[1;32m   1878\u001b[0m                 \u001b[0;32mif\u001b[0m \u001b[0;34m\"b\"\u001b[0m \u001b[0;32mnot\u001b[0m \u001b[0;32min\u001b[0m \u001b[0mmode\u001b[0m\u001b[0;34m:\u001b[0m\u001b[0;34m\u001b[0m\u001b[0;34m\u001b[0m\u001b[0m\n\u001b[1;32m   1879\u001b[0m                     \u001b[0mmode\u001b[0m \u001b[0;34m+=\u001b[0m \u001b[0;34m\"b\"\u001b[0m\u001b[0;34m\u001b[0m\u001b[0;34m\u001b[0m\u001b[0m\n\u001b[0;32m-> 1880\u001b[0;31m             self.handles = get_handle(\n\u001b[0m\u001b[1;32m   1881\u001b[0m                 \u001b[0mf\u001b[0m\u001b[0;34m,\u001b[0m\u001b[0;34m\u001b[0m\u001b[0;34m\u001b[0m\u001b[0m\n\u001b[1;32m   1882\u001b[0m                 \u001b[0mmode\u001b[0m\u001b[0;34m,\u001b[0m\u001b[0;34m\u001b[0m\u001b[0;34m\u001b[0m\u001b[0m\n",
            "\u001b[0;32m/usr/local/lib/python3.11/dist-packages/pandas/io/common.py\u001b[0m in \u001b[0;36mget_handle\u001b[0;34m(path_or_buf, mode, encoding, compression, memory_map, is_text, errors, storage_options)\u001b[0m\n\u001b[1;32m    871\u001b[0m         \u001b[0;32mif\u001b[0m \u001b[0mioargs\u001b[0m\u001b[0;34m.\u001b[0m\u001b[0mencoding\u001b[0m \u001b[0;32mand\u001b[0m \u001b[0;34m\"b\"\u001b[0m \u001b[0;32mnot\u001b[0m \u001b[0;32min\u001b[0m \u001b[0mioargs\u001b[0m\u001b[0;34m.\u001b[0m\u001b[0mmode\u001b[0m\u001b[0;34m:\u001b[0m\u001b[0;34m\u001b[0m\u001b[0;34m\u001b[0m\u001b[0m\n\u001b[1;32m    872\u001b[0m             \u001b[0;31m# Encoding\u001b[0m\u001b[0;34m\u001b[0m\u001b[0;34m\u001b[0m\u001b[0m\n\u001b[0;32m--> 873\u001b[0;31m             handle = open(\n\u001b[0m\u001b[1;32m    874\u001b[0m                 \u001b[0mhandle\u001b[0m\u001b[0;34m,\u001b[0m\u001b[0;34m\u001b[0m\u001b[0;34m\u001b[0m\u001b[0m\n\u001b[1;32m    875\u001b[0m                 \u001b[0mioargs\u001b[0m\u001b[0;34m.\u001b[0m\u001b[0mmode\u001b[0m\u001b[0;34m,\u001b[0m\u001b[0;34m\u001b[0m\u001b[0;34m\u001b[0m\u001b[0m\n",
            "\u001b[0;31mFileNotFoundError\u001b[0m: [Errno 2] No such file or directory: 'matches_1991_2023.csv'"
          ]
        }
      ],
      "source": [
        "import pandas as pd\n",
        "pd.set_option('display.max_columns',None)\n",
        "pd.set_option('display.max_rows',12)\n",
        "\n",
        "wcwomen_df = pd.read_csv('matches_1991_2023.csv')\n",
        "wcmen_df   = pd.read_csv('matches_1930_2022.csv')\n",
        "wc = pd.concat((wcwomen_df,wcmen_df)).reset_index()\n",
        "\n",
        "nomes_traduzidos = {'home_team': 'time_1', 'away_team': 'time_2', 'home_score': 'gols_1', 'away_score': 'gols_2',\n",
        "                    'Date': 'data', 'Year': 'ano', 'Host': 'país_sede', 'Attendance': 'comparecimento',\n",
        "                    'Score': 'resultado', 'Round': 'rodada', 'home_goal': 'gols_1_detalhes', 'away_goal': 'gols_2_detalhes',\n",
        "                    'home_own_goal': 'gols_1_contra', 'away_own_goal': 'gols_2_contra',\n",
        "                    'home_penalty_goal': 'gols_1_penalti', 'away_penalty_goal': 'gols_2_penalti',\n",
        "                    'home_red_card': 'cartao_vermelho_1', 'away_red_card': 'cartao_vermelho_2',\n",
        "                    'home_yellow_card_long': 'cartao_amarelo_1', 'away_yellow_card_long': 'cartao_amarelo_2'}\n",
        "\n",
        "wc = wc.loc[:, nomes_traduzidos.keys()]\n",
        "wc.columns = nomes_traduzidos.values()\n",
        "\n",
        "copa = wc['ano'].apply( lambda x: 'Masculina' if x % 2 == 0 else 'Feminina').astype('string')\n",
        "wc['copa'] = copa\n",
        "display(wc)"
      ]
    },
    {
      "cell_type": "markdown",
      "metadata": {
        "id": "Ls0QCtAydZxc"
      },
      "source": [
        "#### Q1.\n",
        "Faça as conversões de tipo necessárias para que a saída do comando `wc.info()` seja como apresentado a seguir. E **salve o novo dataframe** com o comando `df.to_csv('wc_formatado.csv')`.\n",
        "\n",
        "```\n",
        "Data columns (total 21 columns):\n",
        " #   Column             Non-Null Count  Dtype         \n",
        "---  ------             --------------  -----         \n",
        " 0   time_1             1312 non-null   string        \n",
        " 1   time_2             1312 non-null   string        \n",
        " 2   gols_1             1312 non-null   int64         \n",
        " 3   gols_2             1312 non-null   int64         \n",
        " 4   data               1312 non-null   datetime64[ns]\n",
        " 5   ano                1312 non-null   int64         \n",
        " 6   país_sede          1312 non-null   string        \n",
        " 7   comparecimento     1312 non-null   int64         \n",
        " 8   resultado          1312 non-null   string        \n",
        " 9   rodada             1312 non-null   category      \n",
        " 10  gols_1_detalhes    970 non-null    string        \n",
        " 11  gols_2_detalhes    771 non-null    string        \n",
        " 12  gols_1_contra      57 non-null     string        \n",
        " 13  gols_2_contra      30 non-null     string        \n",
        " 14  gols_1_penalti     170 non-null    string        \n",
        " 15  gols_2_penalti     119 non-null    string        \n",
        " 16  cartao_vermelho_1  59 non-null     string        \n",
        " 17  cartao_vermelho_2  65 non-null     string        \n",
        " 18  cartao_amarelo_1   834 non-null    string        \n",
        " 19  cartao_amarelo_2   857 non-null    string        \n",
        " 20  copa               1312 non-null   string\n",
        "```"
      ]
    },
    {
      "cell_type": "code",
      "execution_count": 2,
      "metadata": {
        "id": "LAcgANrTdZxd",
        "outputId": "ca90eb76-8139-4cfe-bddc-78f5a41c1e2d",
        "colab": {
          "base_uri": "https://localhost:8080/",
          "height": 365
        }
      },
      "outputs": [
        {
          "output_type": "error",
          "ename": "FileNotFoundError",
          "evalue": "[Errno 2] No such file or directory: 'matches_1991_2023.csv'",
          "traceback": [
            "\u001b[0;31m---------------------------------------------------------------------------\u001b[0m",
            "\u001b[0;31mFileNotFoundError\u001b[0m                         Traceback (most recent call last)",
            "\u001b[0;32m<ipython-input-2-e36b60d7600e>\u001b[0m in \u001b[0;36m<cell line: 0>\u001b[0;34m()\u001b[0m\n\u001b[1;32m      4\u001b[0m \u001b[0mpd\u001b[0m\u001b[0;34m.\u001b[0m\u001b[0mset_option\u001b[0m\u001b[0;34m(\u001b[0m\u001b[0;34m'display.max_rows'\u001b[0m\u001b[0;34m,\u001b[0m \u001b[0;36m12\u001b[0m\u001b[0;34m)\u001b[0m\u001b[0;34m\u001b[0m\u001b[0;34m\u001b[0m\u001b[0m\n\u001b[1;32m      5\u001b[0m \u001b[0;34m\u001b[0m\u001b[0m\n\u001b[0;32m----> 6\u001b[0;31m \u001b[0mwcwomen_df\u001b[0m \u001b[0;34m=\u001b[0m \u001b[0mpd\u001b[0m\u001b[0;34m.\u001b[0m\u001b[0mread_csv\u001b[0m\u001b[0;34m(\u001b[0m\u001b[0;34m'matches_1991_2023.csv'\u001b[0m\u001b[0;34m)\u001b[0m\u001b[0;34m\u001b[0m\u001b[0;34m\u001b[0m\u001b[0m\n\u001b[0m\u001b[1;32m      7\u001b[0m \u001b[0mwcmen_df\u001b[0m \u001b[0;34m=\u001b[0m \u001b[0mpd\u001b[0m\u001b[0;34m.\u001b[0m\u001b[0mread_csv\u001b[0m\u001b[0;34m(\u001b[0m\u001b[0;34m'matches_1930_2022.csv'\u001b[0m\u001b[0;34m)\u001b[0m\u001b[0;34m\u001b[0m\u001b[0;34m\u001b[0m\u001b[0m\n\u001b[1;32m      8\u001b[0m \u001b[0mwc\u001b[0m \u001b[0;34m=\u001b[0m \u001b[0mpd\u001b[0m\u001b[0;34m.\u001b[0m\u001b[0mconcat\u001b[0m\u001b[0;34m(\u001b[0m\u001b[0;34m(\u001b[0m\u001b[0mwcwomen_df\u001b[0m\u001b[0;34m,\u001b[0m \u001b[0mwcmen_df\u001b[0m\u001b[0;34m)\u001b[0m\u001b[0;34m)\u001b[0m\u001b[0;34m.\u001b[0m\u001b[0mreset_index\u001b[0m\u001b[0;34m(\u001b[0m\u001b[0;34m)\u001b[0m\u001b[0;34m\u001b[0m\u001b[0;34m\u001b[0m\u001b[0m\n",
            "\u001b[0;32m/usr/local/lib/python3.11/dist-packages/pandas/io/parsers/readers.py\u001b[0m in \u001b[0;36mread_csv\u001b[0;34m(filepath_or_buffer, sep, delimiter, header, names, index_col, usecols, dtype, engine, converters, true_values, false_values, skipinitialspace, skiprows, skipfooter, nrows, na_values, keep_default_na, na_filter, verbose, skip_blank_lines, parse_dates, infer_datetime_format, keep_date_col, date_parser, date_format, dayfirst, cache_dates, iterator, chunksize, compression, thousands, decimal, lineterminator, quotechar, quoting, doublequote, escapechar, comment, encoding, encoding_errors, dialect, on_bad_lines, delim_whitespace, low_memory, memory_map, float_precision, storage_options, dtype_backend)\u001b[0m\n\u001b[1;32m   1024\u001b[0m     \u001b[0mkwds\u001b[0m\u001b[0;34m.\u001b[0m\u001b[0mupdate\u001b[0m\u001b[0;34m(\u001b[0m\u001b[0mkwds_defaults\u001b[0m\u001b[0;34m)\u001b[0m\u001b[0;34m\u001b[0m\u001b[0;34m\u001b[0m\u001b[0m\n\u001b[1;32m   1025\u001b[0m \u001b[0;34m\u001b[0m\u001b[0m\n\u001b[0;32m-> 1026\u001b[0;31m     \u001b[0;32mreturn\u001b[0m \u001b[0m_read\u001b[0m\u001b[0;34m(\u001b[0m\u001b[0mfilepath_or_buffer\u001b[0m\u001b[0;34m,\u001b[0m \u001b[0mkwds\u001b[0m\u001b[0;34m)\u001b[0m\u001b[0;34m\u001b[0m\u001b[0;34m\u001b[0m\u001b[0m\n\u001b[0m\u001b[1;32m   1027\u001b[0m \u001b[0;34m\u001b[0m\u001b[0m\n\u001b[1;32m   1028\u001b[0m \u001b[0;34m\u001b[0m\u001b[0m\n",
            "\u001b[0;32m/usr/local/lib/python3.11/dist-packages/pandas/io/parsers/readers.py\u001b[0m in \u001b[0;36m_read\u001b[0;34m(filepath_or_buffer, kwds)\u001b[0m\n\u001b[1;32m    618\u001b[0m \u001b[0;34m\u001b[0m\u001b[0m\n\u001b[1;32m    619\u001b[0m     \u001b[0;31m# Create the parser.\u001b[0m\u001b[0;34m\u001b[0m\u001b[0;34m\u001b[0m\u001b[0m\n\u001b[0;32m--> 620\u001b[0;31m     \u001b[0mparser\u001b[0m \u001b[0;34m=\u001b[0m \u001b[0mTextFileReader\u001b[0m\u001b[0;34m(\u001b[0m\u001b[0mfilepath_or_buffer\u001b[0m\u001b[0;34m,\u001b[0m \u001b[0;34m**\u001b[0m\u001b[0mkwds\u001b[0m\u001b[0;34m)\u001b[0m\u001b[0;34m\u001b[0m\u001b[0;34m\u001b[0m\u001b[0m\n\u001b[0m\u001b[1;32m    621\u001b[0m \u001b[0;34m\u001b[0m\u001b[0m\n\u001b[1;32m    622\u001b[0m     \u001b[0;32mif\u001b[0m \u001b[0mchunksize\u001b[0m \u001b[0;32mor\u001b[0m \u001b[0miterator\u001b[0m\u001b[0;34m:\u001b[0m\u001b[0;34m\u001b[0m\u001b[0;34m\u001b[0m\u001b[0m\n",
            "\u001b[0;32m/usr/local/lib/python3.11/dist-packages/pandas/io/parsers/readers.py\u001b[0m in \u001b[0;36m__init__\u001b[0;34m(self, f, engine, **kwds)\u001b[0m\n\u001b[1;32m   1618\u001b[0m \u001b[0;34m\u001b[0m\u001b[0m\n\u001b[1;32m   1619\u001b[0m         \u001b[0mself\u001b[0m\u001b[0;34m.\u001b[0m\u001b[0mhandles\u001b[0m\u001b[0;34m:\u001b[0m \u001b[0mIOHandles\u001b[0m \u001b[0;34m|\u001b[0m \u001b[0;32mNone\u001b[0m \u001b[0;34m=\u001b[0m \u001b[0;32mNone\u001b[0m\u001b[0;34m\u001b[0m\u001b[0;34m\u001b[0m\u001b[0m\n\u001b[0;32m-> 1620\u001b[0;31m         \u001b[0mself\u001b[0m\u001b[0;34m.\u001b[0m\u001b[0m_engine\u001b[0m \u001b[0;34m=\u001b[0m \u001b[0mself\u001b[0m\u001b[0;34m.\u001b[0m\u001b[0m_make_engine\u001b[0m\u001b[0;34m(\u001b[0m\u001b[0mf\u001b[0m\u001b[0;34m,\u001b[0m \u001b[0mself\u001b[0m\u001b[0;34m.\u001b[0m\u001b[0mengine\u001b[0m\u001b[0;34m)\u001b[0m\u001b[0;34m\u001b[0m\u001b[0;34m\u001b[0m\u001b[0m\n\u001b[0m\u001b[1;32m   1621\u001b[0m \u001b[0;34m\u001b[0m\u001b[0m\n\u001b[1;32m   1622\u001b[0m     \u001b[0;32mdef\u001b[0m \u001b[0mclose\u001b[0m\u001b[0;34m(\u001b[0m\u001b[0mself\u001b[0m\u001b[0;34m)\u001b[0m \u001b[0;34m->\u001b[0m \u001b[0;32mNone\u001b[0m\u001b[0;34m:\u001b[0m\u001b[0;34m\u001b[0m\u001b[0;34m\u001b[0m\u001b[0m\n",
            "\u001b[0;32m/usr/local/lib/python3.11/dist-packages/pandas/io/parsers/readers.py\u001b[0m in \u001b[0;36m_make_engine\u001b[0;34m(self, f, engine)\u001b[0m\n\u001b[1;32m   1878\u001b[0m                 \u001b[0;32mif\u001b[0m \u001b[0;34m\"b\"\u001b[0m \u001b[0;32mnot\u001b[0m \u001b[0;32min\u001b[0m \u001b[0mmode\u001b[0m\u001b[0;34m:\u001b[0m\u001b[0;34m\u001b[0m\u001b[0;34m\u001b[0m\u001b[0m\n\u001b[1;32m   1879\u001b[0m                     \u001b[0mmode\u001b[0m \u001b[0;34m+=\u001b[0m \u001b[0;34m\"b\"\u001b[0m\u001b[0;34m\u001b[0m\u001b[0;34m\u001b[0m\u001b[0m\n\u001b[0;32m-> 1880\u001b[0;31m             self.handles = get_handle(\n\u001b[0m\u001b[1;32m   1881\u001b[0m                 \u001b[0mf\u001b[0m\u001b[0;34m,\u001b[0m\u001b[0;34m\u001b[0m\u001b[0;34m\u001b[0m\u001b[0m\n\u001b[1;32m   1882\u001b[0m                 \u001b[0mmode\u001b[0m\u001b[0;34m,\u001b[0m\u001b[0;34m\u001b[0m\u001b[0;34m\u001b[0m\u001b[0m\n",
            "\u001b[0;32m/usr/local/lib/python3.11/dist-packages/pandas/io/common.py\u001b[0m in \u001b[0;36mget_handle\u001b[0;34m(path_or_buf, mode, encoding, compression, memory_map, is_text, errors, storage_options)\u001b[0m\n\u001b[1;32m    871\u001b[0m         \u001b[0;32mif\u001b[0m \u001b[0mioargs\u001b[0m\u001b[0;34m.\u001b[0m\u001b[0mencoding\u001b[0m \u001b[0;32mand\u001b[0m \u001b[0;34m\"b\"\u001b[0m \u001b[0;32mnot\u001b[0m \u001b[0;32min\u001b[0m \u001b[0mioargs\u001b[0m\u001b[0;34m.\u001b[0m\u001b[0mmode\u001b[0m\u001b[0;34m:\u001b[0m\u001b[0;34m\u001b[0m\u001b[0;34m\u001b[0m\u001b[0m\n\u001b[1;32m    872\u001b[0m             \u001b[0;31m# Encoding\u001b[0m\u001b[0;34m\u001b[0m\u001b[0;34m\u001b[0m\u001b[0m\n\u001b[0;32m--> 873\u001b[0;31m             handle = open(\n\u001b[0m\u001b[1;32m    874\u001b[0m                 \u001b[0mhandle\u001b[0m\u001b[0;34m,\u001b[0m\u001b[0;34m\u001b[0m\u001b[0;34m\u001b[0m\u001b[0m\n\u001b[1;32m    875\u001b[0m                 \u001b[0mioargs\u001b[0m\u001b[0;34m.\u001b[0m\u001b[0mmode\u001b[0m\u001b[0;34m,\u001b[0m\u001b[0;34m\u001b[0m\u001b[0;34m\u001b[0m\u001b[0m\n",
            "\u001b[0;31mFileNotFoundError\u001b[0m: [Errno 2] No such file or directory: 'matches_1991_2023.csv'"
          ]
        }
      ],
      "source": [
        "import pandas as pd\n",
        "\n",
        "pd.set_option('display.max_columns', None)\n",
        "pd.set_option('display.max_rows', 12)\n",
        "\n",
        "wcwomen_df = pd.read_csv('matches_1991_2023.csv')\n",
        "wcmen_df = pd.read_csv('matches_1930_2022.csv')\n",
        "wc = pd.concat((wcwomen_df, wcmen_df)).reset_index()\n",
        "\n",
        "nomes_traduzidos = {\n",
        "    'home_team': 'time_1', 'away_team': 'time_2', 'home_score': 'gols_1', 'away_score': 'gols_2',\n",
        "    'Date': 'data', 'Year': 'ano', 'Host': 'país_sede', 'Attendance': 'comparecimento',\n",
        "    'Score': 'resultado', 'Round': 'rodada', 'home_goal': 'gols_1_detalhes', 'away_goal': 'gols_2_detalhes',\n",
        "    'home_own_goal': 'gols_1_contra', 'away_own_goal': 'gols_2_contra',\n",
        "    'home_penalty_goal': 'gols_1_penalti', 'away_penalty_goal': 'gols_2_penalti',\n",
        "    'home_red_card': 'cartao_vermelho_1', 'away_red_card': 'cartao_vermelho_2',\n",
        "    'home_yellow_card_long': 'cartao_amarelo_1', 'away_yellow_card_long': 'cartao_amarelo_2'\n",
        "}\n",
        "wc = wc.loc[:, nomes_traduzidos.keys()]\n",
        "wc.columns = nomes_traduzidos.values()\n",
        "\n",
        "copa = wc['ano'].apply(lambda x: 'Masculina' if x % 2 == 0 else 'Feminina').astype('string')\n",
        "wc['copa'] = copa\n",
        "\n",
        "data_cols_to_convert = {\n",
        "    'time_1': 'string',\n",
        "    'time_2': 'string',\n",
        "    'gols_1': 'int64',\n",
        "    'gols_2': 'int64',\n",
        "    'data': 'datetime64[ns]',\n",
        "    'ano': 'int64',\n",
        "    'país_sede': 'string',\n",
        "    'comparecimento': 'int64',\n",
        "    'resultado': 'string',\n",
        "    'rodada': 'category',\n",
        "    'gols_1_detalhes': 'string',\n",
        "    'gols_2_detalhes': 'string',\n",
        "    'gols_1_contra': 'string',\n",
        "    'gols_2_contra': 'string',\n",
        "    'gols_1_penalti': 'string',\n",
        "    'gols_2_penalti': 'string',\n",
        "    'cartao_vermelho_1': 'string',\n",
        "    'cartao_vermelho_2': 'string',\n",
        "    'cartao_amarelo_1': 'string',\n",
        "    'cartao_amarelo_2': 'string',\n",
        "    'copa': 'string'\n",
        "}\n",
        "\n",
        "for col, dtype in data_cols_to_convert.items():\n",
        "    wc[col] = wc[col].astype(dtype)\n",
        "\n",
        "wc.info()\n",
        "wc.to_csv('wc_formatado.csv', index=False)\n"
      ]
    },
    {
      "cell_type": "markdown",
      "metadata": {
        "id": "kkghmeS4dZxe"
      },
      "source": [
        "#### Q2.\n",
        "Apresente a linha do dataframe `wc` que corresponde ao jogo com maior audiência da história."
      ]
    },
    {
      "cell_type": "code",
      "execution_count": null,
      "metadata": {
        "id": "Iq1oWmPtdZxf",
        "outputId": "4b7aebf1-8c91-4da0-a211-83a7bb286e22"
      },
      "outputs": [
        {
          "name": "stdout",
          "output_type": "stream",
          "text": [
            "time_1                           Uruguay\n",
            "time_2                            Brazil\n",
            "gols_1                                 2\n",
            "gols_2                                 1\n",
            "data                 1950-07-16 00:00:00\n",
            "                            ...         \n",
            "cartao_vermelho_1                   <NA>\n",
            "cartao_vermelho_2                   <NA>\n",
            "cartao_amarelo_1                    <NA>\n",
            "cartao_amarelo_2                    <NA>\n",
            "copa                           Masculina\n",
            "Name: 1238, Length: 21, dtype: object\n"
          ]
        }
      ],
      "source": [
        "maior_audiencia_idx = wc['comparecimento'].idxmax()\n",
        "jogo_maior_audiencia = wc.loc[maior_audiencia_idx]\n",
        "\n",
        "print(jogo_maior_audiencia)"
      ]
    },
    {
      "cell_type": "markdown",
      "metadata": {
        "id": "jCEnt_OUdZxf"
      },
      "source": [
        "#### Q3.\n",
        "Aplicando operações sobre as colunas `ano` e `copa` do dataframe `wc`, apresente quantas copas femininas e quantas copas masculinas já aconteceram na história.\n",
        "\n",
        "Exemplo de saída (valores inventados):\n",
        "```\n",
        "Masculina: 22\n",
        "Feminina: 9\n",
        "```"
      ]
    },
    {
      "cell_type": "code",
      "execution_count": null,
      "metadata": {
        "id": "l2g8SDi4dZxg",
        "outputId": "eff04251-36d6-4ec0-80cc-93a258143933"
      },
      "outputs": [
        {
          "name": "stdout",
          "output_type": "stream",
          "text": [
            "Masculina: 22\n",
            "Feminina: 9\n"
          ]
        }
      ],
      "source": [
        "copas_contagem = wc.groupby('copa')['ano'].nunique()\n",
        "\n",
        "print(f\"Masculina: {copas_contagem.get('Masculina', 0)}\")\n",
        "print(f\"Feminina: {copas_contagem.get('Feminina', 0)}\")"
      ]
    },
    {
      "cell_type": "markdown",
      "metadata": {
        "id": "hVRQQ7PVdZxi"
      },
      "source": [
        "#### Q3.\n",
        "Crie um dataframe `participacao` com as colunas `país`, `copa`, e `num_copas` que armazena a quantidade de copas do mundo que cada país participou, informando se é da copa masculina ou feminina. Ao final imprima, como apresentado a seguir, o top 5 países de cada competição que mais participou de copas do mundo.\n",
        "\n",
        "Exemplo de saída (valores inventados):\n",
        "```\n",
        "país            copa        num_copas\n",
        "Brazil          Feminina    8\n",
        "Unites States   Feminina    8\n",
        "Germany         Feminina    8\n",
        "Japan           Feminina    7\n",
        "Colombia        Feminina    7\n",
        "```\n",
        "\n",
        "```\n",
        "país            copa        num_copas\n",
        "Brazil          Masculina   21\n",
        "Germany         Masculina   21\n",
        "Argentina       Masculina   20\n",
        "England         Masculina   20\n",
        "Mexico          Masculina   20\n",
        "```"
      ]
    },
    {
      "cell_type": "code",
      "execution_count": null,
      "metadata": {
        "id": "oXMQJ1pBdZxj",
        "outputId": "d304f3e3-8bf1-4283-b76a-57234e921579"
      },
      "outputs": [
        {
          "name": "stdout",
          "output_type": "stream",
          "text": [
            "Top 5 - Copa Feminina:\n",
            "              país      copa  num_copas\n",
            "10          Brazil  Feminina          9\n",
            "43         Germany  Feminina          9\n",
            "77          Norway  Feminina          9\n",
            "106         Sweden  Feminina          9\n",
            "117  United States  Feminina          9\n",
            "\n",
            "\n",
            "Top 5 - Copa Masculina:\n",
            "          país       copa  num_copas\n",
            "11      Brazil  Masculina         21\n",
            "57       Italy  Masculina         18\n",
            "3    Argentina  Masculina         17\n",
            "38     England  Masculina         16\n",
            "105      Spain  Masculina         16\n"
          ]
        }
      ],
      "source": [
        "participacao = wc.groupby(['time_1', 'copa'])['ano'].nunique().reset_index()\n",
        "participacao.columns = ['país', 'copa', 'num_copas']\n",
        "participacao = participacao.sort_values(by=['copa', 'num_copas'], ascending=[True, False])\n",
        "\n",
        "print(\"Top 5 - Copa Feminina:\")\n",
        "print(participacao[participacao['copa'] == 'Feminina'].head(5))\n",
        "\n",
        "print(\"\\n\")\n",
        "print(\"Top 5 - Copa Masculina:\")\n",
        "print(participacao[participacao['copa'] == 'Masculina'].head(5))"
      ]
    },
    {
      "cell_type": "markdown",
      "metadata": {
        "id": "M8wOVKDAdZxk"
      },
      "source": [
        "#### Q4.\n",
        "* Crie um dataframe `gols` com duas colunas `país` e `total_gols` com o total de gols marcados por cada país durante todas as copas do mundo, juntando gols em casa (`gols_1`) e gols como time visitante (`gols_2`).\n",
        "* Imprima o dataframe `gols` ordenado de forma decrescente, para que os times com mais gols fiquem no topo.\n",
        "\n",
        "Segue um exemplo ilustrativo com o formato do dataframe resultado:\n",
        "\n",
        "```\n",
        "país        total_gols\n",
        "Brazil      120\n",
        "Argentina   112\n",
        "Germany     107\n",
        "...\n",
        "```"
      ]
    },
    {
      "cell_type": "code",
      "execution_count": null,
      "metadata": {
        "id": "fS6peqOndZxk",
        "outputId": "9ce4d182-4cc7-41b1-e2a9-7ad74ac182b0"
      },
      "outputs": [
        {
          "name": "stdout",
          "output_type": "stream",
          "text": [
            "                   país  total_gols\n",
            "0                Brazil       308.0\n",
            "1               Germany       254.0\n",
            "2         United States       182.0\n",
            "3                France       180.0\n",
            "4                Sweden       165.0\n",
            "..                  ...         ...\n",
            "87                Qatar         1.0\n",
            "88    Dutch East Indies         0.0\n",
            "89  Trinidad and Tobago         0.0\n",
            "90              Vietnam         0.0\n",
            "91                Zaire         0.0\n",
            "\n",
            "[92 rows x 2 columns]\n"
          ]
        }
      ],
      "source": [
        "gols_casa = wc.groupby('time_1')['gols_1'].sum()\n",
        "gols_fora = wc.groupby('time_2')['gols_2'].sum()\n",
        "gols = gols_casa.add(gols_fora, fill_value=0).reset_index()\n",
        "gols.columns = ['país', 'total_gols']\n",
        "gols = gols.sort_values(by='total_gols', ascending=False).reset_index(drop=True)\n",
        "\n",
        "print(gols)"
      ]
    },
    {
      "cell_type": "markdown",
      "metadata": {
        "id": "1lhzrkeYdZxl"
      },
      "source": [
        "#### Q5.\n",
        "Qual país tomou mais cartões amarelos somando todas as copas?\n",
        "\n",
        "Neste exercício você vai trabalhar com as colunas `cartao_amarelo_1` e `cartao_amarelo_2` onde cada observação é uma string represetando uma lista dos cartões amarelos de um único jogo na forma `minuto|placar|jogador(a)`. Por exemplo:\n",
        "```\n",
        "['16’|1:0|Rosana Gómez', '20’|2:0|Gabriela Chávez]\n",
        "```\n",
        "\n",
        "Recomendo criar colunas `num_cartoes_1` e `num_cartoes_2` a partir de cada coluna `cartao_amarelo_X` usando o método genérico `apply` para chamar uma função que você vai criar para transformar uma observação de cartão amarelo em uma contagem de elementos da lista.\n",
        "\n",
        "Lembre de levar em consideração que muitas observações são `NaN`.\n",
        "\n",
        "Em seguida faça sua mágica para agrupar as informações por país, acumular os cartões de jogos em casa e jogos visitante, e produzir o resultado final como apresentado a seguir (valores inventados):\n",
        "\n",
        "```\n",
        "país        cartões amarelos\n",
        "Argentina   97\n",
        "England     93\n",
        "Australia   93\n",
        "...\n",
        "```"
      ]
    },
    {
      "cell_type": "code",
      "execution_count": null,
      "metadata": {
        "id": "WfkwFhzYdZxm",
        "outputId": "e3fcc9c9-7552-4503-d871-aac6332c95a5"
      },
      "outputs": [
        {
          "name": "stdout",
          "output_type": "stream",
          "text": [
            "             país  cartões amarelos\n",
            "0          Brazil             168.0\n",
            "1       Argentina             162.0\n",
            "2         Germany             124.0\n",
            "3     Netherlands             117.0\n",
            "4           Italy             108.0\n",
            "5   United States             100.0\n",
            "6          France              97.0\n",
            "7          Mexico              97.0\n",
            "8  Korea Republic              95.0\n",
            "9         England              92.0\n"
          ]
        }
      ],
      "source": [
        "import pandas as pd\n",
        "import numpy as np\n",
        "\n",
        "def contar_cartoes(cartoes):\n",
        "    if pd.isna(cartoes):\n",
        "        return 0\n",
        "    return len(eval(cartoes))\n",
        "\n",
        "wc['num_cartoes_1'] = wc['cartao_amarelo_1'].apply(contar_cartoes)\n",
        "wc['num_cartoes_2'] = wc['cartao_amarelo_2'].apply(contar_cartoes)\n",
        "\n",
        "cartoes_casa = wc.groupby('time_1')['num_cartoes_1'].sum()\n",
        "cartoes_fora = wc.groupby('time_2')['num_cartoes_2'].sum()\n",
        "cartoes_totais = cartoes_casa.add(cartoes_fora, fill_value=0).reset_index()\n",
        "cartoes_totais.columns = ['país', 'cartões amarelos']\n",
        "cartoes_totais = cartoes_totais.sort_values(by='cartões amarelos', ascending=False).reset_index(drop=True)\n",
        "\n",
        "print(cartoes_totais.head(10))"
      ]
    },
    {
      "cell_type": "markdown",
      "metadata": {
        "id": "lo_Dm4fYdZxm"
      },
      "source": [
        "#### Q6.\n",
        "Qual o top10 jogadores com mais gols em copa? Considere gols em jogo e gols de pênalti.\n",
        "\n",
        "Para conseguir essa informação, você precisará trabalhar com as colunas:\n",
        "```\n",
        "10  gols_1_detalhes         \n",
        "11  gols_2_detalhes    \n",
        "14  gols_1_penalti     \n",
        "15  gols_2_penalti     \n",
        "```\n",
        "\n",
        "Essas também são colunas textuais, onde cada observações apresenta todos os gols de uma partida separados pelo caracter `|`. Cada gol está na forma `'Jogador(a) · minuto’'`. Por exemplo:\n",
        "```\n",
        "'Alex Morgan · 12’|Rose Lavelle · 20’'\n",
        "```\n",
        "\n",
        "Lembre de levar em consideração que muitas observações são `NaN`.\n",
        "\n",
        "Recomendo criar um dicionário à parte, onde cada chave será um jogador encontrado nessas colunas do dataframe `wc` e o valor correspondente será a contagem de ocorrências desses nomes.\n",
        "\n",
        "Em seguida basta converter o seu dicionário em um dataframe e imprimí-lo na forma (valores não são inventados 😁):\n",
        "```\n",
        "jogador(a)      num_gols\n",
        "Marta           17\n",
        "Miroslav Klose  16\n",
        "...\n",
        "```"
      ]
    },
    {
      "cell_type": "code",
      "execution_count": null,
      "metadata": {
        "id": "VJSwCdEidZxm",
        "outputId": "a7310cb2-3660-4357-c0ef-6f8e9c4ed5ed"
      },
      "outputs": [
        {
          "name": "stdout",
          "output_type": "stream",
          "text": [
            "Top 10 jogadores com mais gols em Copas do Mundo:\n",
            "         jogador(a)  num_gols\n",
            "0    Miroslav Klose        16\n",
            "1           Ronaldo        14\n",
            "2      Birgit Prinz        14\n",
            "3       Gerd Müller        13\n",
            "4     Just Fontaine        13\n",
            "5      Abby Wambach        12\n",
            "6              Pelé        12\n",
            "7     Sándor Kocsis        11\n",
            "8  Jürgen Klinsmann        11\n",
            "9       Helmut Rahn        10\n"
          ]
        }
      ],
      "source": [
        "from collections import defaultdict\n",
        "\n",
        "def contar_gols(dicionario, coluna):\n",
        "    if pd.isna(coluna):\n",
        "        return\n",
        "    for gol in coluna.split('|'):\n",
        "        jogador = gol.split('·')[0].strip()\n",
        "        if jogador:\n",
        "            dicionario[jogador] += 1\n",
        "\n",
        "gols_jogadores = defaultdict(int)\n",
        "\n",
        "for _, row in wc.iterrows():\n",
        "    contar_gols(gols_jogadores, row['gols_1_detalhes'])\n",
        "    contar_gols(gols_jogadores, row['gols_2_detalhes'])\n",
        "    contar_gols(gols_jogadores, row['gols_1_penalti'])\n",
        "    contar_gols(gols_jogadores, row['gols_2_penalti'])\n",
        "\n",
        "gols_df = pd.DataFrame(gols_jogadores.items(), columns=['jogador(a)', 'num_gols'])\n",
        "gols_df = gols_df.sort_values(by='num_gols', ascending=False).reset_index(drop=True)\n",
        "\n",
        "print(\"Top 10 jogadores com mais gols em Copas do Mundo:\")\n",
        "print(gols_df.head(10))\n"
      ]
    }
  ],
  "metadata": {
    "kernelspec": {
      "display_name": "Python 3",
      "language": "python",
      "name": "python3"
    },
    "language_info": {
      "codemirror_mode": {
        "name": "ipython",
        "version": 3
      },
      "file_extension": ".py",
      "mimetype": "text/x-python",
      "name": "python",
      "nbconvert_exporter": "python",
      "pygments_lexer": "ipython3",
      "version": "3.12.8"
    },
    "colab": {
      "provenance": []
    }
  },
  "nbformat": 4,
  "nbformat_minor": 0
}