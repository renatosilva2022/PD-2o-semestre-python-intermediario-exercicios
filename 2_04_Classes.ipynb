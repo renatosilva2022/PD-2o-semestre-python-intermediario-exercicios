{
  "cells": [
    {
      "cell_type": "markdown",
      "metadata": {
        "id": "g1nI7Fa3-lsw"
      },
      "source": [
        "> Projeto Desenvolve <br>\n",
        "Programação Intermediária com Python <br>\n",
        "Profa. Camila Laranjeira (mila@projetodesenvolve.com.br) <br>\n",
        "\n",
        "# 2.4 - Classes, atributos e métodos"
      ]
    },
    {
      "cell_type": "markdown",
      "metadata": {
        "id": "BEgMKW6w-ls3"
      },
      "source": [
        "## Exercícios\n",
        "\n",
        "#### Q1.\n",
        "Vamos criar aos pouquinhos uma classe Evento que registra eventos de um calendário. Pra começar, nessa questão você deve:\n",
        "\n",
        "* Criar uma classe chamada Evento\n",
        "* Adicionar um atributo de classe `total_eventos` que será usado para contar o número total de eventos (instâncias de classe) criadas.\n",
        "* Implemente o método construtor que deve receber os parâmetros `titulo` (`string`), `data_hora` (`datetime`), `descrição` (`string`). Crie e inicialize um atributo de instância para cada um dos parâmetros citados.\n",
        "* O construtor também deve inicializar um atributo de instância `is_concluido = False`. Esse atributo será utilizado mais à frente.\n",
        "* No construtor você também deve incrementar o atributo de classe `total_eventos` em 1 a cada nova instância criada.\n",
        "\n",
        "Teste o seu código criando duas diferentes instâncias de evento (preencha os atributos como quiser) e imprimindo todos os seus atributos (de classe e de instância).\n",
        "\n",
        "> Consulte [este tutorial biblioteca `datetime`](https://www.w3schools.com/python/python_datetime.asp) caso não esteja familiarizado."
      ]
    },
    {
      "cell_type": "code",
      "execution_count": 1,
      "metadata": {
        "vscode": {
          "languageId": "plaintext"
        },
        "colab": {
          "base_uri": "https://localhost:8080/"
        },
        "id": "jClz3cXP-ls6",
        "outputId": "8370085f-7213-44f7-a750-c3345c1834ff"
      },
      "outputs": [
        {
          "output_type": "stream",
          "name": "stdout",
          "text": [
            "Título: Reunião, Data e Hora: 2024-12-25 15:00:00, Descrição: Reunião de fim de ano, Concluído: False\n",
            "Título: Aniversário, Data e Hora: 2025-01-01 20:00:00, Descrição: Festa de aniversário, Concluído: False\n",
            "Total de eventos: 2\n"
          ]
        }
      ],
      "source": [
        "from datetime import datetime\n",
        "\n",
        "class Evento:\n",
        "    total_eventos = 0\n",
        "\n",
        "    def __init__(self, titulo, data_hora, descricao):\n",
        "        self.titulo = titulo\n",
        "        self.data_hora = data_hora\n",
        "        self.descricao = descricao\n",
        "        self.is_concluido = False\n",
        "        Evento.total_eventos += 1\n",
        "\n",
        "# Criando duas instâncias de Evento e imprimindo seus atributos\n",
        "evento1 = Evento(\"Reunião\", datetime(2024, 12, 25, 15, 0), \"Reunião de fim de ano\")\n",
        "evento2 = Evento(\"Aniversário\", datetime(2025, 1, 1, 20, 0), \"Festa de aniversário\")\n",
        "\n",
        "print(f\"Título: {evento1.titulo}, Data e Hora: {evento1.data_hora}, Descrição: {evento1.descricao}, Concluído: {evento1.is_concluido}\")\n",
        "print(f\"Título: {evento2.titulo}, Data e Hora: {evento2.data_hora}, Descrição: {evento2.descricao}, Concluído: {evento2.is_concluido}\")\n",
        "print(f\"Total de eventos: {Evento.total_eventos}\")\n"
      ]
    },
    {
      "cell_type": "markdown",
      "metadata": {
        "id": "5nLO8FGX-ls9"
      },
      "source": [
        "#### Q2.\n",
        "Agora vamos adicionar métodos à nossa classe. Lembre dos diferentes decoradores que aprendemos. Você deve redefinir a classe com os seguintes métodos:\n",
        "* Um método `isConcluido()` que avalia se a `data_hora` do evento é menor que `datetime.now()` (a data e hora atual). Em caso positivo, atualiza o atributo de instância `is_concluido` para o valor `True`.\n",
        "* Um método de classe `num_eventos()` que retorna o valor do atributo de classe `total_eventos`.\n",
        "* Um método estático `valida_evento(nome, data_hora, descricao)` que recebe os atributos de um evento e testa os tipos de cada variável, retornando `True` caso todos estejam corretos e `False` caso contrário. Para o teste, use a função nativa do Python [`isinstance`](https://www.w3schools.com/python/ref_func_isinstance.asp).\n",
        "\n",
        "Para testar sua classe atualizada:\n",
        "* Crie uma instância de Evento com valor passado e chame o método `isConcluido()` para a instância criada. Em seguida imprima o atributo `is_concluido`.\n",
        "* Invoque o método de classe `num_eventos()` a partir da classe Evento (ou seja, sem criar nenhuma instância).\n",
        "* Chame o método estático `valida_evento()` a partir da classe Evento. Experimente passar valores corretos e incorretos.\n"
      ]
    },
    {
      "cell_type": "code",
      "execution_count": 4,
      "metadata": {
        "vscode": {
          "languageId": "plaintext"
        },
        "colab": {
          "base_uri": "https://localhost:8080/"
        },
        "id": "kxC5kRnT-ltA",
        "outputId": "11fdd089-4aa4-4d1c-bf06-73c3acd058db"
      },
      "outputs": [
        {
          "output_type": "stream",
          "name": "stdout",
          "text": [
            "Evento: Reunião, Concluído: True\n",
            "Total de eventos: 1\n",
            "True\n",
            "False\n"
          ]
        }
      ],
      "source": [
        "from datetime import datetime\n",
        "\n",
        "class Evento:\n",
        "    total_eventos = 0\n",
        "\n",
        "    def __init__(self, titulo, data_hora, descricao):\n",
        "        self.titulo = titulo\n",
        "        self.data_hora = data_hora\n",
        "        self.descricao = descricao\n",
        "        self.is_concluido = False\n",
        "        Evento.total_eventos += 1\n",
        "\n",
        "    def isConcluido(self):\n",
        "        \"\"\"Verifica se o evento foi concluído baseado na data e hora atual.\"\"\"\n",
        "        if self.data_hora < datetime.now():\n",
        "            self.is_concluido = True\n",
        "\n",
        "    @classmethod\n",
        "    def num_eventos(cls):\n",
        "        \"\"\"Retorna o número total de eventos criados.\"\"\"\n",
        "        return cls.total_eventos\n",
        "\n",
        "    @staticmethod\n",
        "    def valida_evento(titulo, data_hora, descricao):\n",
        "        \"\"\"Valida os tipos dos atributos de um evento.\"\"\"\n",
        "        return isinstance(titulo, str) and isinstance(data_hora, datetime) and isinstance(descricao, str)\n",
        "\n",
        "# Testando a classe atualizada\n",
        "\n",
        "# Criando uma instância de Evento\n",
        "evento1 = Evento(\"Reunião\", datetime(2022, 12, 25, 15, 0), \"Reunião de fim de ano\")\n",
        "evento1.isConcluido()\n",
        "print(f\"Evento: {evento1.titulo}, Concluído: {evento1.is_concluido}\")\n",
        "\n",
        "# Invocando o método de classe num_eventos()\n",
        "print(f\"Total de eventos: {Evento.num_eventos()}\")\n",
        "\n",
        "# Chamando o método estático valida_evento()\n",
        "print(Evento.valida_evento(\"Festa\", datetime(2023, 1, 1, 20, 0), \"Festa de ano novo\"))  # Deve retornar True\n",
        "print(Evento.valida_evento(\"Festa\", \"2023-01-01 20:00\", \"Festa de ano novo\"))          # Deve retornar False\n"
      ]
    },
    {
      "cell_type": "markdown",
      "metadata": {
        "vscode": {
          "languageId": "plaintext"
        },
        "id": "simpFnRl-ltC"
      },
      "source": [
        "#### Q3.\n",
        "\n",
        "Vamos incluir métodos mágicos! ✨🪄🔮\n",
        "\n",
        "Redefina a classe incluindo\":\n",
        "* Método `__str__` que imprime os atributos do evento na forma `\"Evento: titulo, Data: data_hora, Descrição: descricao, Concluido: is_concluido\"`.\n",
        "* Implemente os métodos de comparação `__eq__`, `__ne__`, `__lt__`, `__le__`, `__gt__` e `__ge__` para comparar eventos baseados no atributo `data_hora`. Esses métodos devem comparar duas instâncias de Evento e retornar os resultados apropriados (`True` ou `False`).\n",
        "\n",
        "Para testar, crie duas instâncias de Evento com datas diferentes. Imprima as instâncias com a função `print()` e apresente o resultado das comparações entre eventos (`==`, `!=`, `<`, `<=`, `>`, `>=`)."
      ]
    },
    {
      "cell_type": "code",
      "execution_count": 7,
      "metadata": {
        "vscode": {
          "languageId": "plaintext"
        },
        "colab": {
          "base_uri": "https://localhost:8080/"
        },
        "id": "4Py1YW9--ltE",
        "outputId": "ca18dc69-6b9b-46e4-b4ff-de26cb7b19f9"
      },
      "outputs": [
        {
          "output_type": "stream",
          "name": "stdout",
          "text": [
            "Evento: Reunião, Data: 2022-12-25 15:00:00, Descrição: Reunião de fim de ano, Concluido: False\n",
            "Evento: Aniversário, Data: 2023-01-01 20:00:00, Descrição: Festa de aniversário, Concluido: False\n",
            "False\n",
            "True\n",
            "True\n",
            "True\n",
            "False\n",
            "False\n"
          ]
        }
      ],
      "source": [
        "from datetime import datetime\n",
        "\n",
        "class Evento:\n",
        "    total_eventos = 0\n",
        "\n",
        "    def __init__(self, titulo, data_hora, descricao):\n",
        "        self.titulo = titulo\n",
        "        self.data_hora = data_hora\n",
        "        self.descricao = descricao\n",
        "        self.is_concluido = False\n",
        "        Evento.total_eventos += 1\n",
        "\n",
        "    def isConcluido(self):\n",
        "        \"\"\"Verifica se o evento foi concluído baseado na data e hora atual.\"\"\"\n",
        "        if self.data_hora < datetime.now():\n",
        "            self.is_concluido = True\n",
        "\n",
        "    @classmethod\n",
        "    def num_eventos(cls):\n",
        "        \"\"\"Retorna o número total de eventos criados.\"\"\"\n",
        "        return cls.total_eventos\n",
        "\n",
        "    @staticmethod\n",
        "    def valida_evento(titulo, data_hora, descricao):\n",
        "        \"\"\"Valida os tipos dos atributos de um evento.\"\"\"\n",
        "        return isinstance(titulo, str) and isinstance(data_hora, datetime) and isinstance(descricao, str)\n",
        "\n",
        "    def __str__(self):\n",
        "        \"\"\"Retorna uma representação em string dos atributos do evento.\"\"\"\n",
        "        return f\"Evento: {self.titulo}, Data: {self.data_hora}, Descrição: {self.descricao}, Concluido: {self.is_concluido}\"\n",
        "\n",
        "    def __eq__(self, other):\n",
        "        \"\"\"Compara se dois eventos têm a mesma data e hora.\"\"\"\n",
        "        return self.data_hora == other.data_hora\n",
        "\n",
        "    def __ne__(self, other):\n",
        "        \"\"\"Compara se dois eventos têm datas e horas diferentes.\"\"\"\n",
        "        return self.data_hora != other.data_hora\n",
        "\n",
        "    def __lt__(self, other):\n",
        "        \"\"\"Compara se a data e hora do evento é menor que a de outro evento.\"\"\"\n",
        "        return self.data_hora < other.data_hora\n",
        "\n",
        "    def __le__(self, other):\n",
        "        \"\"\"Compara se a data e hora do evento é menor ou igual a de outro evento.\"\"\"\n",
        "        return self.data_hora <= other.data_hora\n",
        "\n",
        "    def __gt__(self, other):\n",
        "        \"\"\"Compara se a data e hora do evento é maior que a de outro evento.\"\"\"\n",
        "        return self.data_hora > other.data_hora\n",
        "\n",
        "    def __ge__(self, other):\n",
        "        \"\"\"Compara se a data e hora do evento é maior ou igual a de outro evento.\"\"\"\n",
        "        return self.data_hora >= other.data_hora\n",
        "\n",
        "# Testando a classe atualizada\n",
        "\n",
        "# Criando duas instâncias de Evento com datas diferentes\n",
        "evento1 = Evento(\"Reunião\", datetime(2022, 12, 25, 15, 0), \"Reunião de fim de ano\")\n",
        "evento2 = Evento(\"Aniversário\", datetime(2023, 1, 1, 20, 0), \"Festa de aniversário\")\n",
        "\n",
        "# Imprimindo as instâncias\n",
        "print(evento1)\n",
        "print(evento2)\n",
        "\n",
        "# Apresentando o resultado das comparações entre eventos\n",
        "print(evento1 == evento2)  # False\n",
        "print(evento1 != evento2)  # True\n",
        "print(evento1 < evento2)   # True\n",
        "print(evento1 <= evento2)  # True\n",
        "print(evento1 > evento2)   # False\n",
        "print(evento1 >= evento2)  # False\n",
        "\n"
      ]
    }
  ],
  "metadata": {
    "language_info": {
      "name": "python"
    },
    "colab": {
      "provenance": []
    },
    "kernelspec": {
      "name": "python3",
      "display_name": "Python 3"
    }
  },
  "nbformat": 4,
  "nbformat_minor": 0
}