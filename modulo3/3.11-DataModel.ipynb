{
 "cells": [
  {
   "cell_type": "markdown",
   "metadata": {},
   "source": [
    "> Projeto Desenvolve <br>\n",
    "Programação Intermediária com Python <br>\n",
    "Profa. Camila Laranjeira (mila@projetodesenvolve.com.br) <br>\n",
    "\n",
    "# 3.11 - Data Model"
   ]
  },
  {
   "cell_type": "markdown",
   "metadata": {},
   "source": [
    "## Exercícios\n",
    "\n",
    "#### Q1. `dataclass`\n",
    "Exercício adaptado de [codechalleng.es/bites/154/](https://codechalleng.es/bites/154/) e [codechalleng.es/bites/320/](https://codechalleng.es/bites/320/).\n",
    "\n",
    "Neste desafio, você deve escrever uma `dataclass` chamada `Bite` que gerencia 3 atributos: `number`, `title` e `level`. Seus tipos são:\n",
    "* `number` - `int`, \n",
    "* `title` - `str`, \n",
    "* `level` -  classe `Enum` chamada `BiteLevel` com os atributos `Beginner`, `Intermediate`, `Advanced`. \n",
    "\n",
    "Exemplo de dado: `{'number': 154, 'title': 'Escreva uma dataclass', 'level': BiteLevel.Intermediate}`\n",
    "\n",
    "As características dessa classe são:\n",
    "* O atributo`level` tem um valor padrão `BiteLevel.Beginner`\n",
    "* Uma coleção de objetos `Bite` tem que ser ordenável somente pelo atributo `number`\n",
    "* Implemente o método especial `__str__` para imprimir o Bite na forma `f'{number} - {title} ({level})'`\n",
    "\n",
    "Teste sua classe executando o seguinte código:\n",
    "```python\n",
    "bites = []\n",
    "bites.append(Bite(154, 'Escreva uma dataclass', 'Intermediate'))\n",
    "bites.append(Bite(1, 'Some n valores'))\n",
    "bites.append(Bite(37, 'Reescreva um loop com recursão', 'Intermediate'))\n",
    "\n",
    "for b in bites.sort(): print(b)\n",
    "# Ordem esperada na saída:\n",
    "# 1 - Some n valores (Beginner)\n",
    "# 37 - Reescreva um loop com recursão (Intermediate)\n",
    "# 154 - Escreva uma dataclass (Intermediate)\n",
    "```"
   ]
  },
  {
   "cell_type": "code",
   "execution_count": null,
   "metadata": {
    "vscode": {
     "languageId": "plaintext"
    }
   },
   "outputs": [],
   "source": [
    "#### Escreva sua resposta aqui"
   ]
  },
  {
   "cell_type": "markdown",
   "metadata": {},
   "source": [
    "#### Q2. `Pydantic`\n",
    "> Adaptada desse [tutorial de Pydantic](https://github.com/adonath/scipy-2023-pydantic-tutorial/tree/main) criado por [Axel Donath](https://github.com/adonath) e [Nick Langellier](https://github.com/nlangellier).\n",
    "\n",
    "Observe a seguinte lista de observações da previsão do tempo em Murmansk, Russia.\n",
    "```python\n",
    "data_samples = [\n",
    "    {\n",
    "        \"date\": \"2023-05-20\",\n",
    "        \"temperature\": 62.2,\n",
    "        \"isCelsius\": False,\n",
    "        \"airQualityIndex\": \"24\",\n",
    "        \"sunriseTime\": \"01:26\",\n",
    "        \"sunsetTime\": \"00:00\",\n",
    "    },\n",
    "    {\n",
    "        \"date\": \"2023-05-21\",\n",
    "        \"temperature\": \"64.4\",\n",
    "        \"isCelsius\": \"not true\",\n",
    "        \"airQualityIndex\": 23,\n",
    "        \"sunriseTime\": \"01:10\",\n",
    "        \"sunsetTime\": \"00:16\",\n",
    "    },\n",
    "    {\n",
    "        \"date\": \"2023-05-22\",\n",
    "        \"temperature\": 14.4,\n",
    "        \"airQualityIndex\": 21,\n",
    "    },\n",
    "]\n",
    "```\n",
    "\n",
    "Escreva um script que calcule e imprima a temperatura média (em Celsius) em Murmansk para as datas fornecidas. Em seu script, você deve incluir um modelo Pydantic que registre com sucesso todos os elementos dados. Note que:\n",
    "\n",
    "* Algumas amostras estão faltando dados. Você deve decidir quando o atributo pode ter um valor padrão ou quando definí-lo como opcional (`typing.Optional`). \n",
    "* Você precisará implementar pelo menos um validador de campo para transformar atributos. Dica: teste primeiro quais vão falhar :)\n",
    "\n"
   ]
  },
  {
   "cell_type": "code",
   "execution_count": null,
   "metadata": {
    "vscode": {
     "languageId": "plaintext"
    }
   },
   "outputs": [],
   "source": [
    "#### Escreva sua resposta aqui"
   ]
  },
  {
   "cell_type": "markdown",
   "metadata": {},
   "source": [
    "#### Q3\n",
    "> Adaptada desse [tutorial de Pydantic](https://github.com/adonath/scipy-2023-pydantic-tutorial/tree/main) criado por [Axel Donath](https://github.com/adonath) e [Nick Langellier](https://github.com/nlangellier).\n",
    "\n",
    "Na célula a seguir, coletamos dados reais de uma das principais APIs de previsão do tempo, [open-meteo](https://open-meteo.com/en/docs). Não se preocupe em entender esse código, o mais importante é entender o resultado que ele retorna, ilustrado a seguir para uma coleta da temperatura dos últimos 15 dias em Itabira -MG. Caso deseje alterar a cidade de coleta, basta alimentar a latitude e longitude desejada, como nas opções a seguir.\n",
    "* Itabira: `'latitude': -19.656655787605846, 'longitude': -43.228922960534476`\n",
    "* Bom Despacho: `'latitude': -19.726308457732443, 'longitude': -45.27462803349767`\n",
    "\n",
    "```python\n",
    "{\n",
    "  \"latitude\": -19.5,\n",
    "  \"longitude\": -43.375,\n",
    "  \"generationtime_ms\": 0.01800060272216797,\n",
    "  \"utc_offset_seconds\": 0,\n",
    "  \"timezone\": \"GMT\",\n",
    "  \"timezone_abbreviation\": \"GMT\",\n",
    "  \"elevation\": 2.0,\n",
    "  \"hourly_units\": {\n",
    "    \"time\": \"iso8601\",\n",
    "    \"temperature_2m\": \"\\u00b0C\"\n",
    "  },\n",
    "  \"hourly\": {\n",
    "    \"time\": [\n",
    "      \"2024-07-19T00:00\",\n",
    "      \"2024-07-19T01:00\",\n",
    "      \"2024-07-19T02:00\",\n",
    "      ...\n",
    "    ],\n",
    "    \"temperature_2m\": [\n",
    "      21.9,\n",
    "      20.9,\n",
    "      20.0,\n",
    "      ... \n",
    "    ]\n",
    "  }\n",
    "}\n",
    "```\n",
    "\n",
    "Você deve escrever um modelo Pydantic `OpenMeteo` que receba diretamente a resposta dessa API, através do comando:\n",
    "```python\n",
    "dados = OpenMeteo(**response)\n",
    "``` \n",
    "\n",
    "Para comportar a estrutura hierárquica desse dicionário (é um dicionário com alguns dicionários internos), você deve criar uma classe Pydantic para cada dicionário interno (`HourlyUnits` e `Hourly`), com seus respectivos atributos. Essas classes serão atributos da classe principal `OpenMeteo`, que terá também os outros atributos da resposta (`latitude`, `longitude`, etc.).\n",
    "\n"
   ]
  },
  {
   "cell_type": "code",
   "execution_count": null,
   "metadata": {
    "vscode": {
     "languageId": "plaintext"
    }
   },
   "outputs": [],
   "source": [
    "import requests, json\n",
    "\n",
    "url = 'https://api.open-meteo.com/v1/forecast'\n",
    "lat, long = -19.656655787605846, -43.228922960534476\n",
    "params = {'latitude': lat, 'longitude': long, 'elevation': 2,\n",
    "          'hourly': 'temperature_2m', 'forecast_days': 15}\n",
    "response = requests.get(url, params=params).json()\n",
    "print(json.dumps(response, indent=2))"
   ]
  },
  {
   "cell_type": "code",
   "execution_count": null,
   "metadata": {
    "vscode": {
     "languageId": "plaintext"
    }
   },
   "outputs": [],
   "source": [
    "#### Escreva aqui seus modelos Pydantic"
   ]
  },
  {
   "cell_type": "markdown",
   "metadata": {},
   "source": [
    "#### Q4. \n",
    "\n",
    "Com os dados carregados na questão anterior plote um gráfico de linha, com a biblioteca de sua preferência, onde o eixo `x` são os timestamps (data e hora) e o eixo `y` é a temperatura medida."
   ]
  },
  {
   "cell_type": "code",
   "execution_count": null,
   "metadata": {
    "vscode": {
     "languageId": "plaintext"
    }
   },
   "outputs": [],
   "source": [
    "#### Escreva aqui a sua resposta"
   ]
  }
 ],
 "metadata": {
  "language_info": {
   "name": "python"
  }
 },
 "nbformat": 4,
 "nbformat_minor": 2
}
