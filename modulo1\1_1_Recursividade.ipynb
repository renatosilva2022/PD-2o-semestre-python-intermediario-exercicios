{
  "cells": [
    {
      "cell_type": "markdown",
      "metadata": {
        "id": "view-in-github",
        "colab_type": "text"
      },
      "source": [
        "<a href=\"https://colab.research.google.com/github/renatosilva2022/PD-2o-semestre-python-intermediario-exercicios/blob/main/modulo1%5C1_1_Recursividade.ipynb\" target=\"_parent\"><img src=\"https://colab.research.google.com/assets/colab-badge.svg\" alt=\"Open In Colab\"/></a>"
      ]
    },
    {
      "cell_type": "markdown",
      "id": "c87bc264",
      "metadata": {
        "id": "c87bc264"
      },
      "source": [
        "> Projeto Desenvolve <br>\n",
        "Programação Intermediária com Python <br>\n",
        "Profa. Camila Laranjeira (mila@projetodesenvolve.com.br) <br>\n",
        "\n",
        "# 1.1 - Recursividade"
      ]
    },
    {
      "cell_type": "markdown",
      "id": "02e47197",
      "metadata": {
        "id": "02e47197"
      },
      "source": [
        "## Exercícios:\n",
        "\n",
        "#### **Q1**.\n",
        "Faça um procedimento recursivo que receba dois valores inteiros `a` e `b` e imprime o intervalo fechado entre eles. Se `a > b` imprima uma mensagem de erro.\n",
        "\n",
        "| Entrada |  Saída |\n",
        "| ------- | ------ |\n",
        "| 1 10    | 1 2 3 4 5 6 7 8 9 10 |\n",
        "| -5 1    | -5 -4 -3 -2 -1 |\n",
        "| 5 -5    | Valores invalidos |\n",
        "| 17 20   | 17 18 19 20 |"
      ]
    },
    {
      "cell_type": "code",
      "source": [
        "def imprimir_intervalo(a, b):\n",
        "    # Verifica se a > b (caso inválido)\n",
        "    if a > b:\n",
        "        print(\"Valores invalidos\")\n",
        "        return\n",
        "\n",
        "    # Caso base: se a == b, imprime o último número e encerra a recursão\n",
        "    if a == b:\n",
        "        print(a)\n",
        "        return\n",
        "\n",
        "    # Imprime o valor atual de a\n",
        "    print(a, end=\" \")\n",
        "\n",
        "    # Chama a função recursivamente com a + 1\n",
        "    imprimir_intervalo(a + 1, b)\n",
        "\n",
        "# Exemplos de uso\n",
        "print(\"Teste 1:\")\n",
        "imprimir_intervalo(1, 10)    # Saída: 1 2 3 4 5 6 7 8 9 10\n",
        "\n",
        "print(\"\\nTeste 2:\")\n",
        "imprimir_intervalo(-5, 1)    # Saída: -5 -4 -3 -2 -1 0 1\n",
        "\n",
        "print(\"\\nTeste 3:\")\n",
        "imprimir_intervalo(5, -5)    # Saída: Valores invalidos\n",
        "\n",
        "print(\"\\nTeste 4:\")\n",
        "imprimir_intervalo(17, 20)   # Saída: 17 18 19 20"
      ],
      "metadata": {
        "colab": {
          "base_uri": "https://localhost:8080/"
        },
        "id": "2pegbXHUj1id",
        "outputId": "e1f4027f-8250-4c47-95a2-1f56ba78104a"
      },
      "id": "2pegbXHUj1id",
      "execution_count": 3,
      "outputs": [
        {
          "output_type": "stream",
          "name": "stdout",
          "text": [
            "Teste 1:\n",
            "1 2 3 4 5 6 7 8 9 10\n",
            "\n",
            "Teste 2:\n",
            "-5 -4 -3 -2 -1 0 1\n",
            "\n",
            "Teste 3:\n",
            "Valores invalidos\n",
            "\n",
            "Teste 4:\n",
            "17 18 19 20\n"
          ]
        }
      ]
    },
    {
      "cell_type": "markdown",
      "id": "b48196ed",
      "metadata": {
        "id": "b48196ed"
      },
      "source": [
        "---\n",
        "\n",
        "\n",
        "#### **Q2**.\n",
        "Mudando **apenas uma linha**, altere o código anterior para imprimir o intervalo invertido.\n",
        "\n",
        "| Entrada |  Saída |\n",
        "| ------- | ------ |\n",
        "| 1 10    | 10 9 8 7 6 5 4 3 2 1 |\n",
        "| -5 1    | -1 -2 -3 -4 -5 |\n",
        "| 5 -5    | Valores invalidos |\n",
        "| 17 20   | 20 19 18 17 |"
      ]
    },
    {
      "cell_type": "code",
      "source": [
        "def imprimir_intervalo_invertido(a, b):\n",
        "    # Verifica se a > b (caso inválido)\n",
        "    if a > b:\n",
        "        print(\"Valores invalidos\")\n",
        "        return\n",
        "\n",
        "    # Caso base: se a == b, imprime o último número e encerra a recursão\n",
        "    if a == b:\n",
        "        print(a, end=\" \")\n",
        "        return\n",
        "\n",
        "    # Chama a função recursivamente com a + 1\n",
        "    imprimir_intervalo_invertido(a + 1, b)\n",
        "\n",
        "    # Imprime o valor atual de a (após a chamada recursiva)\n",
        "    print(a, end=\" \")\n",
        "\n",
        "# Exemplos de uso\n",
        "print(\"Teste 1:\")\n",
        "imprimir_intervalo_invertido(1, 10)    # Saída: 10 9 8 7 6 5 4 3 2 1\n",
        "\n",
        "print(\"\\nTeste 2:\")\n",
        "imprimir_intervalo_invertido(-5, 1)    # Saída: 1 0 -1 -2 -3 -4 -5\n",
        "\n",
        "print(\"\\nTeste 3:\")\n",
        "imprimir_intervalo_invertido(5, -5)    # Saída: Valores invalidos\n",
        "\n",
        "print(\"\\nTeste 4:\")\n",
        "imprimir_intervalo_invertido(17, 20)   # Saída: 20 19 18 17"
      ],
      "metadata": {
        "colab": {
          "base_uri": "https://localhost:8080/"
        },
        "id": "-PqGHv7JlOcM",
        "outputId": "a17d9ad2-1f1f-4f31-ea9f-29ada328bb79"
      },
      "id": "-PqGHv7JlOcM",
      "execution_count": 4,
      "outputs": [
        {
          "output_type": "stream",
          "name": "stdout",
          "text": [
            "Teste 1:\n",
            "10 9 8 7 6 5 4 3 2 1 \n",
            "Teste 2:\n",
            "1 0 -1 -2 -3 -4 -5 \n",
            "Teste 3:\n",
            "Valores invalidos\n",
            "\n",
            "Teste 4:\n",
            "20 19 18 17 "
          ]
        }
      ]
    },
    {
      "cell_type": "markdown",
      "id": "be727074",
      "metadata": {
        "id": "be727074"
      },
      "source": [
        "\n",
        "\n",
        "---\n",
        "\n",
        "\n",
        "#### **Q3**.\n",
        "Escreva uma função recursiva que recebe um inteiro `n > 1` e calcula a soma dos valores entre `n` e `1`.\n",
        "\n",
        "| Entrada |  Saída |\n",
        "| ------- | ------ |\n",
        "| 5   | 15 |\n",
        "| 13  | 78 |"
      ]
    },
    {
      "cell_type": "code",
      "source": [
        "def soma_recursiva(n):\n",
        "    # Caso base: se n == 1, retorna 1\n",
        "    if n == 1:\n",
        "        return 1\n",
        "\n",
        "    # Passo recursivo: soma n com o resultado da função para n-1\n",
        "    return n + soma_recursiva(n - 1)\n",
        "\n",
        "# Exemplos de uso\n",
        "print(\"Teste 1:\")\n",
        "print(soma_recursiva(5))    # Saída: 15\n",
        "\n",
        "print(\"\\nTeste 2:\")\n",
        "print(soma_recursiva(12))   # Saída: 78"
      ],
      "metadata": {
        "colab": {
          "base_uri": "https://localhost:8080/"
        },
        "id": "3TzO-rVjoCGK",
        "outputId": "848c8e04-d03c-498f-a311-cfb48ef678f3"
      },
      "id": "3TzO-rVjoCGK",
      "execution_count": 8,
      "outputs": [
        {
          "output_type": "stream",
          "name": "stdout",
          "text": [
            "Teste 1:\n",
            "15\n",
            "\n",
            "Teste 2:\n",
            "78\n"
          ]
        }
      ]
    },
    {
      "cell_type": "markdown",
      "id": "4142b276",
      "metadata": {
        "id": "4142b276"
      },
      "source": [
        "\n",
        "\n",
        "---\n",
        "\n",
        "\n",
        "#### **Q4**.  \n",
        "\n",
        "Escreva uma função recursiva que recebe um inteiro `n` e verifica se `n`é um valor primo, ou seja, se é divisível apenas por si mesmo e por `1`."
      ]
    },
    {
      "cell_type": "code",
      "execution_count": 10,
      "id": "4c96eb2d",
      "metadata": {
        "colab": {
          "base_uri": "https://localhost:8080/"
        },
        "id": "4c96eb2d",
        "outputId": "0921cd65-0b6d-47ac-da99-b1d2c14acdb5"
      },
      "outputs": [
        {
          "output_type": "stream",
          "name": "stdout",
          "text": [
            "Teste 1:\n",
            "True\n",
            "\n",
            "Teste 2:\n",
            "True\n",
            "\n",
            "Teste 3:\n",
            "False\n",
            "\n",
            "Teste 4:\n",
            "True\n"
          ]
        }
      ],
      "source": [
        "def eh_primo(n, divisor=2):\n",
        "    # Casos base\n",
        "    if n <= 1:\n",
        "        return False  # Números menores ou iguais a 1 não são primos\n",
        "    if n == 2:\n",
        "        return True   # 2 é o único número par primo\n",
        "    if n % divisor == 0:\n",
        "        return False  # Se n for divisível por divisor, não é primo\n",
        "    if divisor * divisor > n:\n",
        "        return True   # Se divisor^2 > n, n é primo\n",
        "\n",
        "    # Passo recursivo: testar o próximo divisor\n",
        "    return eh_primo(n, divisor + 1)\n",
        "\n",
        "# Exemplos de uso\n",
        "print(\"Teste 1:\")\n",
        "print(eh_primo(5))    # Saída: True\n",
        "\n",
        "print(\"\\nTeste 2:\")\n",
        "print(eh_primo(13))   # Saída: True\n",
        "\n",
        "print(\"\\nTeste 3:\")\n",
        "print(eh_primo(4))    # Saída: False\n",
        "\n",
        "print(\"\\nTeste 4:\")\n",
        "print(eh_primo(11))    # Saída: False"
      ]
    },
    {
      "cell_type": "markdown",
      "id": "2a0ae81c",
      "metadata": {
        "id": "2a0ae81c"
      },
      "source": [
        "\n",
        "\n",
        "---\n",
        "\n",
        "\n",
        "#### **Q5**.\n",
        "Implemente uma função recursiva que recebe um número inteiro decimal e retorna sua representação binária como uma string. Para realizar essa conversão, utilize o método de divisão sucessiva, onde você divide o número decimal por 2 e coleta os restos até que o quociente seja zero. A ordem dos restos coletados, de baixo para cima, forma o número binário correspondente.\n",
        "\n",
        "**Exemplo de Conversão:**\n",
        "\n",
        "Para converter o número decimal 13 para binário:\n",
        "```\n",
        "13 ÷ 2 = 6, resto 1\n",
        "6 ÷ 2 = 3, resto 0\n",
        "3 ÷ 2 = 1, resto 1\n",
        "1 ÷ 2 = 0, resto 1\n",
        "```\n",
        "Lendo os restos de baixo para cima, obtemos o número binário `1101`."
      ]
    },
    {
      "cell_type": "code",
      "source": [
        "def decimal_para_binario(n):\n",
        "    # Caso base: se n é 0, retorna \"0\"\n",
        "    if n == 0:\n",
        "        return \"0\"\n",
        "\n",
        "    # Caso base: se n é 1, retorna \"1\"\n",
        "    if n == 1:\n",
        "        return \"1\"\n",
        "\n",
        "    # Passo recursivo: divide n por 2 e concatena o resto ao resultado da função\n",
        "    return decimal_para_binario(n // 2) + str(n % 2)\n",
        "\n",
        "# Exemplos de uso\n",
        "print(\"Teste 1:\")\n",
        "print(decimal_para_binario(13))  # Saída: 1101\n",
        "\n",
        "print(\"\\nTeste 2:\")\n",
        "print(decimal_para_binario(10))  # Saída: 1010\n",
        "\n",
        "print(\"\\nTeste 3:\")\n",
        "print(decimal_para_binario(0))   # Saída: 0\n",
        "\n",
        "print(\"\\nTeste 4:\")\n",
        "print(decimal_para_binario(255)) # Saída: 11111111"
      ],
      "metadata": {
        "colab": {
          "base_uri": "https://localhost:8080/"
        },
        "id": "7DCdN7BDtI2m",
        "outputId": "4a85d8c6-e8cd-4194-a006-470b89506384"
      },
      "id": "7DCdN7BDtI2m",
      "execution_count": 14,
      "outputs": [
        {
          "output_type": "stream",
          "name": "stdout",
          "text": [
            "Teste 1:\n",
            "1101\n",
            "\n",
            "Teste 2:\n",
            "1010\n",
            "\n",
            "Teste 3:\n",
            "0\n",
            "\n",
            "Teste 4:\n",
            "11111111\n"
          ]
        }
      ]
    },
    {
      "cell_type": "markdown",
      "id": "0f500709",
      "metadata": {
        "id": "0f500709"
      },
      "source": [
        "\n",
        "\n",
        "---\n",
        "\n",
        "\n",
        "#### **Extra**:\n",
        "\n",
        "Implemente uma função recursiva em Python que realiza a travessia em pré-ordem de uma árvore binária representada por listas aninhadas. Na travessia em pré-ordem (ou pré-fixada), o nó raiz é visitado primeiro, seguido pela subárvore esquerda e, por fim, pela subárvore direita. A questão fixa as constantes `RAIZ_IDX, ESQ_IDX, DIR_IDX` representando os índices da lista onde se encontra o valor raíz, o nó a esquerda e o nó a direita.\n",
        "\n",
        "```\n",
        "# Representação visual da árvore\n",
        "       4\n",
        "      / \\\n",
        "     2   5\n",
        "    / \\\n",
        "   1   3\n",
        "```"
      ]
    },
    {
      "cell_type": "code",
      "execution_count": 15,
      "id": "10df4831",
      "metadata": {
        "id": "10df4831"
      },
      "outputs": [],
      "source": [
        "RAIZ_IDX, ESQ_IDX, DIR_IDX = 0, 1, 2\n",
        "\n",
        "arvore = [\n",
        "    4,              # raíz, nível 0\n",
        "    [               # ramo da esquerda, nível 1\n",
        "        2,          # valor filho esquerda\n",
        "        [1, None, None],   # ramo da esquerda, nível 2\n",
        "        [3, None, None]    # ramo da direita, nível 2\n",
        "    ],\n",
        "    [               # ramo da direita, nível 1\n",
        "        5,          # valor filho da direita\n",
        "        None,              # ramo da esquerda, nível 2\n",
        "        None               # ramo da direita, nível 2\n",
        "    ]\n",
        "]"
      ]
    },
    {
      "cell_type": "code",
      "source": [
        "# Constantes para os índices dos nós\n",
        "RAIZ_IDX = 0\n",
        "ESQ_IDX = 1\n",
        "DIR_IDX = 2\n",
        "\n",
        "def pre_ordem(arvore):\n",
        "    if not arvore:\n",
        "        return []\n",
        "\n",
        "    raiz = arvore[RAIZ_IDX]\n",
        "    esquerda = arvore[ESQ_IDX] if len(arvore) > ESQ_IDX else []\n",
        "    direita = arvore[DIR_IDX] if len(arvore) > DIR_IDX else []\n",
        "\n",
        "    return [raiz] + pre_ordem(esquerda) + pre_ordem(direita)\n",
        "\n",
        "# Exemplo de uso\n",
        "arvore = [4, [2, [1, [], []], [3, [], []]], [5, [], []]]\n",
        "resultado = pre_ordem(arvore)\n",
        "print(resultado)  # Saída: [4, 2, 1, 3, 5]\n"
      ],
      "metadata": {
        "colab": {
          "base_uri": "https://localhost:8080/"
        },
        "id": "8n1sHzdduk5Q",
        "outputId": "f2b1de8d-d363-4da1-9369-404de9c9b77f"
      },
      "id": "8n1sHzdduk5Q",
      "execution_count": 18,
      "outputs": [
        {
          "output_type": "stream",
          "name": "stdout",
          "text": [
            "[4, 2, 1, 3, 5]\n"
          ]
        }
      ]
    }
  ],
  "metadata": {
    "kernelspec": {
      "display_name": "Python 3 (ipykernel)",
      "language": "python",
      "name": "python3"
    },
    "language_info": {
      "codemirror_mode": {
        "name": "ipython",
        "version": 3
      },
      "file_extension": ".py",
      "mimetype": "text/x-python",
      "name": "python",
      "nbconvert_exporter": "python",
      "pygments_lexer": "ipython3",
      "version": "3.9.6"
    },
    "colab": {
      "provenance": [],
      "include_colab_link": true
    }
  },
  "nbformat": 4,
  "nbformat_minor": 5
}