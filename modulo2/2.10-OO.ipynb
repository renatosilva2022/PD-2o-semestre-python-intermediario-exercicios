{
 "cells": [
  {
   "cell_type": "markdown",
   "metadata": {},
   "source": [
    "> Projeto Desenvolve <br>\n",
    "Programação Intermediária com Python <br>\n",
    "Profa. Camila Laranjeira (mila@projetodesenvolve.com.br) <br>\n",
    "\n",
    "# 2.5 a 2.10 - Pilares da OO"
   ]
  },
  {
   "cell_type": "markdown",
   "metadata": {},
   "source": [
    "## Exercícios\n",
    "\n",
    "#### Q1.\n",
    "Essa lista de exercícios terá como base a classe `Evento` criada em exercícios anteriores. Primeiramente criaremos a classe abstrata `EventoABC` com os métodos de instância abstratos `__str__(self)` e `isConcluido(self)`, indicando que todos as subclasses que dela herdarem devem implementar esses métodos.\n",
    "\n",
    "`EventoABC` também possui os atributos `_titulo` (string) e `_descricao` (string), cujos valores são recebidos e inicializados no construtor da classe. Note a convenção de nomenclatura indicando o caráter privado desses atributos."
   ]
  },
  {
   "cell_type": "code",
   "execution_count": null,
   "metadata": {
    "vscode": {
     "languageId": "plaintext"
    }
   },
   "outputs": [],
   "source": [
    "#### Classe EventoABC"
   ]
  },
  {
   "cell_type": "markdown",
   "metadata": {
    "vscode": {
     "languageId": "plaintext"
    }
   },
   "source": [
    "#### Q2.\n",
    "\n",
    "Crie a classe `DataHora` que dará suporte ao registro de eventos de calendário.\n",
    "* A classe possui o atributo de instância `_data_hora` (datetime) privado e um atributo de classe `FORMAT` inicializado com a formatação de string aceito para `_data_hora`, ou seja, `FORMAT = '%d/%m/%Y, %H:%M'`.\n",
    "* A classe **não possui construtor customizado**. A alteração de seu atributo se dará a partir da propriedade a seguir.\n",
    "* Crie a `property` `data_hora` para manipular o atributo `_data_hora`.\n",
    "    * O getter da propriedade deve retornar a data como uma string formatada (`%d/%m/%Y, %H:%M`). Use o atributo `FORMAT`. Consulte o [funcionamento do método `strftime`](https://www.programiz.com/python-programming/datetime/strftime).\n",
    "    * O setter da propriedade deve receber uma string de data formatada (`%d/%m/%Y, %H:%M`) e implementar um bloco try-except que tenta converter a string em `datetime` e lança um `ValueError` caso a entrada seja inválida. Use o atributo `FORMAT`. Consulte o [funcionamento do método `strptime`](https://www.digitalocean.com/community/tutorials/python-string-to-datetime-strptime).\n",
    "* Crie o método de instância `isPassado(self)` que avalia se a `_data_hora` é menor que `datetime.now()` (a data e hora atual) e retorna `True` em caso positivo, e `False` caso contrário.\n",
    "* Crie o método de instância `somaDias(self, num_dias)` que recebe um inteiro `num_dias`, soma esse valor ao atributo interno `_data_hora` e retorna a string formatada do resultado da soma (código dado a seguir).   \n",
    "```python\n",
    "data_hora_somada = self._data_hora + datetime.timedelta(days=num_dias)\n",
    "return data_hora_somada.strftime(FORMAT)\n",
    "```\n",
    "\n",
    "Teste a classe `DataHora` com o seguinte código (altere o que for necessário):\n",
    "```python\n",
    "# instanciando o objeto\n",
    "dh = DataHora()\n",
    "\n",
    "# definindo a data_hora através da propriedade\n",
    "dh.data_hora = '05/02/2024, 12:30'\n",
    "\n",
    "## editando a data_hora através da função somaDias\n",
    "dh.data_hora = dh.somaDias(30)\n",
    "\n",
    "## imprimindo a data_hora editada e se é passado\n",
    "print(dh.data_hora, dh.isPassado())\n",
    "```"
   ]
  },
  {
   "cell_type": "code",
   "execution_count": null,
   "metadata": {
    "vscode": {
     "languageId": "plaintext"
    }
   },
   "outputs": [],
   "source": [
    "#### Classe DataHora"
   ]
  },
  {
   "cell_type": "markdown",
   "metadata": {},
   "source": [
    "#### Q3.\n",
    "Crie a classe `EventoUnico`:\n",
    "* A classe deve herdar de `EventoABC`.\n",
    "* Possui o atributo de instância `_data_hora` (classe `DataHora` que criamos previamente).\n",
    "* Seu construtor deve receber e inicializar os atributos da superclasse, além do valor de `_data_hora` recebido como uma string formatada (`%d/%m/%Y, %H:%M`). Note que para alterar `_data_hora` (objeto tipo `DataHora`), você deve manipular a propriedade interna da classe.\n",
    "*  Implementa os métodos abstratos da superclasse:\n",
    "    * Método `isConcluido()` que invoca o método `isPassado()` de `_data_hora` e retorna o seu resultado.\n",
    "    * Método `__str__` que imprime os atributos do evento na forma `\"Evento: _titulo, Data: _data_hora, Descrição: _descricao, Concluido: isConcluido()\"`. Note que `isConcluido()` é o método de avaliação implementado. \n",
    "* Crie o método de instância `editar_data_hora` que recebe uma string formatada e altera `_data_hora` (através de sua propriedade interna).\n",
    "    \n",
    "    \n",
    "Teste a classe `EventoUnico` com o seguinte código:\n",
    "```python\n",
    "# criar evento\n",
    "evento = EventoUnico('Reunião', 'Sala 302, prédio da esquina', '05/10/2023, 16:30')\n",
    "print(evento)\n",
    "\n",
    "# editar data do evento (através da propriedade)\n",
    "evento.editar_data_hora('05/10/2024, 16:30')\n",
    "print(evento)\n",
    "```"
   ]
  },
  {
   "cell_type": "code",
   "execution_count": null,
   "metadata": {
    "vscode": {
     "languageId": "plaintext"
    }
   },
   "outputs": [],
   "source": [
    "#### Classe EventoUnico"
   ]
  },
  {
   "cell_type": "markdown",
   "metadata": {},
   "source": [
    "#### Q3.\n",
    "Crie a classe `EventoRecorrente`:\n",
    "* A classe deve herdar de `EventoABC`.\n",
    "* Possui como atributo próprio uma lista privada de objetos `DataHora` (como você deve nomear o atributo?).\n",
    "* Seu construtor recebe os atributos da superclasse, além dos atributos `data_hora_inicial` (string formatada), `data_hora_final` (string formatada) e `intervalo_repeticao` (int), sendo o intervalo dado em dias. Preencha a coleção `DataHora` de acordo com o intervalo de repetição fornecido. Dica: crie o objeto `DataHora` inicial e use sua função interna `somaDias` para criar iterativamente as novas instâncias do intervalo até chegar em `DataHora` final. \n",
    "*  Implementa os métodos abstratos da superclasse:\n",
    "    * Método `isConcluido(indice)` que que invoca o método `isPassado()` do elemento `indice` da coleção de objetos `DataHora` e retorna seu resultado. \n",
    "    * Método `__str__` que imprime (em um laço) **todos as ocorrências `i` do evento** na forma `\"Evento: _titulo, Data: data_hora[i], Descrição: _descricao, Concluido: isConcluido(i)\"`. \n",
    "* Crie o método `editar_data_hora` que recebe `data_hora_antiga` e `data_hora_nova` e altera o elemento da coleção de objetos `DataHora` que corresponde a `data_hora_antiga` fornecida.    \n",
    "\n",
    "\n",
    "Teste a classe `EventoRecorrente` com o seguinte código:\n",
    "```python\n",
    "# criar evento\n",
    "eventos = EventoRecorrente(\n",
    "    'Reunião', 'Sala 302, prédio da esquina', \n",
    "    '05/01/2024, 16:30', '05/01/2025, 16:30', 30)\n",
    "\n",
    "# imprimir eventos\n",
    "print(eventos)\n",
    "\n",
    "# editar um dos eventos\n",
    "eventos.editar_data_hora('05/12/2024, 16:30', '05/12/2024, 11:30')\n",
    "\n",
    "# imprimir eventos\n",
    "print(eventos)\n",
    "```"
   ]
  },
  {
   "cell_type": "code",
   "execution_count": null,
   "metadata": {
    "vscode": {
     "languageId": "plaintext"
    }
   },
   "outputs": [],
   "source": []
  },
  {
   "cell_type": "markdown",
   "metadata": {},
   "source": [
    "#### Q4.\n",
    "\n",
    "Por fim, vamos só ver o polimorfismo em ação. Crie e preencha uma lista de eventos, sendo alguns do tipo `EventoUnico` e outros do tipo `EventoRecorrente`. Sobre essa lista, execute o laço de impressão a seguir:\n",
    "```python\n",
    "for evento in lista_eventos: print(evento)\n",
    "```\n",
    "A função `print` irá invocar o método especial `__str__` das classes correspondentes dependendo do tipo do objeto recebido. Aí está o polimorfismo :)"
   ]
  },
  {
   "cell_type": "code",
   "execution_count": null,
   "metadata": {
    "vscode": {
     "languageId": "plaintext"
    }
   },
   "outputs": [],
   "source": []
  }
 ],
 "metadata": {
  "language_info": {
   "name": "python"
  }
 },
 "nbformat": 4,
 "nbformat_minor": 2
}
