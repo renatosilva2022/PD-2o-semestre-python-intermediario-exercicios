{
  "cells": [
    {
      "cell_type": "markdown",
      "id": "c87bc264",
      "metadata": {
        "id": "c87bc264"
      },
      "source": [
        "> Projeto Desenvolve <br>\n",
        "Programação Intermediária com Python <br>\n",
        "Profa. Camila Laranjeira (mila@projetodesenvolve.com.br) <br>\n",
        "\n",
        "# 1.1 - Recursividade"
      ]
    },
    {
      "cell_type": "markdown",
      "id": "02e47197",
      "metadata": {
        "id": "02e47197"
      },
      "source": [
        "## Exercícios:\n",
        "\n",
        "#### **Q1**.\n",
        "Faça um procedimento recursivo que receba dois valores inteiros `a` e `b` e imprime o intervalo fechado entre eles. Se `a > b` imprima uma mensagem de erro.\n",
        "\n",
        "| Entrada |  Saída |\n",
        "| ------- | ------ |\n",
        "| 1 10    | 1 2 3 4 5 6 7 8 9 10 |\n",
        "| -5 1    | -5 -4 -3 -2 -1 |\n",
        "| 5 -5    | Valores invalidos |\n",
        "| 17 20   | 17 18 19 20 |"
      ]
    },
    {
      "cell_type": "code",
      "execution_count": 4,
      "id": "e89a9966",
      "metadata": {
        "colab": {
          "base_uri": "https://localhost:8080/"
        },
        "id": "e89a9966",
        "outputId": "cb2a905b-ff0b-46e0-e210-18f1e44c4211"
      },
      "outputs": [
        {
          "output_type": "stream",
          "name": "stdout",
          "text": [
            "1\n",
            "2\n",
            "3\n",
            "4\n",
            "5\n",
            "6\n",
            "7\n",
            "8\n",
            "9\n",
            "10\n",
            "-5\n",
            "-4\n",
            "-3\n",
            "-2\n",
            "-1\n",
            "0\n",
            "1\n",
            "Valores inválidos\n",
            "17\n",
            "18\n",
            "19\n",
            "20\n"
          ]
        }
      ],
      "source": [
        "def imprime_intervalo(a, b):\n",
        "    if a > b:\n",
        "        print(\"Valores inválidos\")\n",
        "        return\n",
        "    if a == b:\n",
        "        print(a)\n",
        "    else:\n",
        "        print(a)\n",
        "        imprime_intervalo(a + 1, b)\n",
        "\n",
        "# Testando a função\n",
        "imprime_intervalo(1, 10)\n",
        "imprime_intervalo(-5, 1)\n",
        "imprime_intervalo(5, -5)\n",
        "imprime_intervalo(17, 20)"
      ]
    },
    {
      "cell_type": "markdown",
      "id": "b48196ed",
      "metadata": {
        "id": "b48196ed"
      },
      "source": [
        "---\n",
        "\n",
        "\n",
        "#### **Q2**.\n",
        "Mudando **apenas uma linha**, altere o código anterior para imprimir o intervalo invertido.\n",
        "\n",
        "| Entrada |  Saída |\n",
        "| ------- | ------ |\n",
        "| 1 10    | 10 9 8 7 6 5 4 3 2 1 |\n",
        "| -5 1    | -1 -2 -3 -4 -5 |\n",
        "| 5 -5    | Valores invalidos |\n",
        "| 17 20   | 20 19 18 17 |"
      ]
    },
    {
      "cell_type": "code",
      "execution_count": 5,
      "id": "4d0c21b4",
      "metadata": {
        "colab": {
          "base_uri": "https://localhost:8080/"
        },
        "id": "4d0c21b4",
        "outputId": "e7bc14b2-61a0-4d95-c00d-4572a99ad15e"
      },
      "outputs": [
        {
          "output_type": "stream",
          "name": "stdout",
          "text": [
            "10\n",
            "9\n",
            "8\n",
            "7\n",
            "6\n",
            "5\n",
            "4\n",
            "3\n",
            "2\n",
            "1\n",
            "1\n",
            "0\n",
            "-1\n",
            "-2\n",
            "-3\n",
            "-4\n",
            "-5\n",
            "Valores inválidos\n",
            "20\n",
            "19\n",
            "18\n",
            "17\n"
          ]
        }
      ],
      "source": [
        "def imprime_intervalo(a, b):\n",
        "    if a > b:\n",
        "        print(\"Valores inválidos\")\n",
        "        return\n",
        "    if a == b:\n",
        "        print(a)\n",
        "    else:\n",
        "        imprime_intervalo(a + 1, b)\n",
        "        print(a)\n",
        "\n",
        "# Testando a função\n",
        "imprime_intervalo(1, 10)\n",
        "imprime_intervalo(-5, 1)\n",
        "imprime_intervalo(5, -5)\n",
        "imprime_intervalo(17, 20)"
      ]
    },
    {
      "cell_type": "markdown",
      "id": "be727074",
      "metadata": {
        "id": "be727074"
      },
      "source": [
        "\n",
        "\n",
        "---\n",
        "\n",
        "\n",
        "#### **Q3**.\n",
        "Escreva uma função recursiva que recebe um inteiro `n > 1` e calcula a soma dos valores entre `n` e `1`.\n",
        "\n",
        "| Entrada |  Saída |\n",
        "| ------- | ------ |\n",
        "| 5   | 15 |\n",
        "| 13  | 78 |"
      ]
    },
    {
      "cell_type": "code",
      "execution_count": 15,
      "id": "c4da98b8",
      "metadata": {
        "colab": {
          "base_uri": "https://localhost:8080/"
        },
        "id": "c4da98b8",
        "outputId": "1f38990a-0a4d-49c5-9f3d-78760d866dac"
      },
      "outputs": [
        {
          "output_type": "stream",
          "name": "stdout",
          "text": [
            "15\n",
            "78\n",
            "91\n"
          ]
        }
      ],
      "source": [
        "def soma_recursiva(n):\n",
        "    if n == 1:  # Base da recursão\n",
        "        return 1\n",
        "    else:\n",
        "        return n + soma_recursiva(n - 1)\n",
        "\n",
        "# Testando a função\n",
        "print(soma_recursiva(5))\n",
        "print(soma_recursiva(12))\n",
        "print(soma_recursiva(13))"
      ]
    },
    {
      "cell_type": "markdown",
      "id": "4142b276",
      "metadata": {
        "id": "4142b276"
      },
      "source": [
        "\n",
        "\n",
        "---\n",
        "\n",
        "\n",
        "#### **Q4**.  \n",
        "\n",
        "Escreva uma função recursiva que recebe um inteiro `n` e verifica se `n`é um valor primo, ou seja, se é divisível apenas por si mesmo e por `1`."
      ]
    },
    {
      "cell_type": "code",
      "execution_count": 17,
      "id": "4c96eb2d",
      "metadata": {
        "colab": {
          "base_uri": "https://localhost:8080/"
        },
        "id": "4c96eb2d",
        "outputId": "ccd0f54c-41b2-4dcf-a51d-91c9897f3798"
      },
      "outputs": [
        {
          "output_type": "stream",
          "name": "stdout",
          "text": [
            "True\n",
            "False\n"
          ]
        }
      ],
      "source": [
        "def é_primo(n, i=2):\n",
        "  if n <= 2:\n",
        "    if(n == 2):\n",
        "      return True;\n",
        "    else:\n",
        "      return False;\n",
        "  if n % i == 0:\n",
        "    return False;\n",
        "  if i * i > n:\n",
        "    return True;\n",
        "  return é_primo(n, i + 1);\n",
        "\n",
        "print(é_primo(5))  # imprime: True\n",
        "print(é_primo(21))  # imprime: False"
      ]
    },
    {
      "cell_type": "markdown",
      "id": "2a0ae81c",
      "metadata": {
        "id": "2a0ae81c"
      },
      "source": [
        "\n",
        "\n",
        "---\n",
        "\n",
        "\n",
        "#### **Q5**.\n",
        "Implemente uma função recursiva que recebe um número inteiro decimal e retorna sua representação binária como uma string. Para realizar essa conversão, utilize o método de divisão sucessiva, onde você divide o número decimal por 2 e coleta os restos até que o quociente seja zero. A ordem dos restos coletados, de baixo para cima, forma o número binário correspondente.\n",
        "\n",
        "**Exemplo de Conversão:**\n",
        "\n",
        "Para converter o número decimal 13 para binário:\n",
        "```\n",
        "13 ÷ 2 = 6, resto 1\n",
        "6 ÷ 2 = 3, resto 0\n",
        "3 ÷ 2 = 1, resto 1\n",
        "1 ÷ 2 = 0, resto 1\n",
        "```\n",
        "Lendo os restos de baixo para cima, obtemos o número binário `1101`."
      ]
    },
    {
      "cell_type": "code",
      "execution_count": 21,
      "id": "a7d954f0",
      "metadata": {
        "colab": {
          "base_uri": "https://localhost:8080/"
        },
        "id": "a7d954f0",
        "outputId": "5d03eda1-c70f-431b-9b46-fa32c0efb913"
      },
      "outputs": [
        {
          "output_type": "stream",
          "name": "stdout",
          "text": [
            "A representação binária de 13 é: 1101\n"
          ]
        }
      ],
      "source": [
        "def decimal_para_binario(n):\n",
        "    if n == 0:\n",
        "        return \"\"\n",
        "    else:\n",
        "        return decimal_para_binario(n // 2) + str(n % 2)\n",
        "\n",
        "# Testando a função\n",
        "numero = 13\n",
        "resultado = decimal_para_binario(numero)\n",
        "print(f\"A representação binária de {numero} é: {resultado}\")\n"
      ]
    },
    {
      "cell_type": "markdown",
      "id": "0f500709",
      "metadata": {
        "id": "0f500709"
      },
      "source": [
        "\n",
        "\n",
        "---\n",
        "\n",
        "\n",
        "#### **Extra**:\n",
        "\n",
        "Implemente uma função recursiva em Python que realiza a travessia em pré-ordem de uma árvore binária representada por listas aninhadas. Na travessia em pré-ordem (ou pré-fixada), o nó raiz é visitado primeiro, seguido pela subárvore esquerda e, por fim, pela subárvore direita. A questão fixa as constantes `RAIZ_IDX, ESQ_IDX, DIR_IDX` representando os índices da lista onde se encontra o valor raíz, o nó a esquerda e o nó a direita.\n",
        "\n",
        "```\n",
        "# Representação visual da árvore\n",
        "       4\n",
        "      / \\\n",
        "     2   5\n",
        "    / \\\n",
        "   1   3\n",
        "```"
      ]
    },
    {
      "cell_type": "code",
      "execution_count": 27,
      "id": "10df4831",
      "metadata": {
        "id": "10df4831"
      },
      "outputs": [],
      "source": [
        "RAIZ_IDX, ESQ_IDX, DIR_IDX = 0, 1, 2\n",
        "\n",
        "arvore = [\n",
        "    4,              # raíz, nível 0\n",
        "    [               # ramo da esquerda, nível 1\n",
        "        2,          # valor filho esquerda\n",
        "        [1, None, None],   # ramo da esquerda, nível 2\n",
        "        [3, None, None]    # ramo da direita, nível 2\n",
        "    ],\n",
        "    [               # ramo da direita, nível 1\n",
        "        5,          # valor filho da direita\n",
        "        None,              # ramo da esquerda, nível 2\n",
        "        None               # ramo da direita, nível 2\n",
        "    ]\n",
        "]"
      ]
    },
    {
      "cell_type": "code",
      "source": [
        "# Definindo os índices para a árvore\n",
        "RAIZ_IDX, ESQ_IDX, DIR_IDX = 0, 1, 2\n",
        "\n",
        "def pre_ordem(arvore):\n",
        "    if arvore is None:\n",
        "        return []\n",
        "\n",
        "    raiz = arvore[RAIZ_IDX]  # Obtém o valor da raiz\n",
        "    esquerda = pre_ordem(arvore[ESQ_IDX])  # Travessia da subárvore esquerda\n",
        "    direita = pre_ordem(arvore[DIR_IDX])  # Travessia da subárvore direita\n",
        "\n",
        "    return [raiz] + esquerda + direita  # Combina a raiz com as travessias\n",
        "\n",
        "# Exemplo de árvore representada por listas aninhadas\n",
        "arvore = [\n",
        "    4,              # raíz, nível 0\n",
        "    [               # ramo da esquerda, nível 1\n",
        "        2,          # valor filho esquerda\n",
        "        [1, None, None],   # ramo da esquerda, nível 2\n",
        "        [3, None, None]    # ramo da direita, nível 2\n",
        "    ],\n",
        "    [               # ramo da direita, nível 1\n",
        "        5,          # valor filho da direita\n",
        "        None,              # ramo da esquerda, nível 2\n",
        "        None               # ramo da direita, nível 2\n",
        "    ]\n",
        "]\n",
        "\n",
        "# Testando a função\n",
        "resultado = pre_ordem(arvore)\n",
        "print(\"Travessia em pré-ordem:\", resultado)  # Saída: [4, 2, 1, 3, 5]\n"
      ],
      "metadata": {
        "colab": {
          "base_uri": "https://localhost:8080/"
        },
        "id": "252n4_UTdpiq",
        "outputId": "8638ce0a-1722-4c88-983a-8bca88edd98b"
      },
      "id": "252n4_UTdpiq",
      "execution_count": 26,
      "outputs": [
        {
          "output_type": "stream",
          "name": "stdout",
          "text": [
            "Travessia em pré-ordem: [4, 2, 1, 3, 5]\n"
          ]
        }
      ]
    }
  ],
  "metadata": {
    "kernelspec": {
      "display_name": "Python 3 (ipykernel)",
      "language": "python",
      "name": "python3"
    },
    "language_info": {
      "codemirror_mode": {
        "name": "ipython",
        "version": 3
      },
      "file_extension": ".py",
      "mimetype": "text/x-python",
      "name": "python",
      "nbconvert_exporter": "python",
      "pygments_lexer": "ipython3",
      "version": "3.9.6"
    },
    "colab": {
      "provenance": []
    }
  },
  "nbformat": 4,
  "nbformat_minor": 5
}