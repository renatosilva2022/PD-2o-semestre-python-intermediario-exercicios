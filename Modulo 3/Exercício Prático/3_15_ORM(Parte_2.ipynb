{
  "cells": [
    {
      "cell_type": "markdown",
      "metadata": {
        "id": "E98dFDzeAWvA"
      },
      "source": [
        "## Exercícios\n",
        "\n",
        "> Retirados de [learn-python: sqlalchemy_orm-questions](https://aviadr1.github.io/learn-advanced-python/11_db_access/exercise/sqlalchemy_orm-questions.html).\n",
        "\n",
        "#### Q1.\n",
        "\n",
        "Baixa e extraia o arquivo compactado com o banco de dados [Chinook database](https://www.sqlitetutorial.net/sqlite-sample-database/). Salve o arquivo `chinook.db` na mesma pasta deste script.\n",
        "* Link para baixar: http://www.sqlitetutorial.net/wp-content/uploads/2018/03/chinook.zip\n",
        "\n",
        "<img width=500 src=https://www.sqlitetutorial.net/wp-content/uploads/2015/11/sqlite-sample-database-color.jpg>\n"
      ]
    },
    {
      "cell_type": "markdown",
      "metadata": {
        "id": "4LlOp7BwAWvK"
      },
      "source": [
        "#### Q2.\n",
        "\n",
        "Leia o código e os comentários das células a seguir para entender como acessamos os modelos ORM de um banco já existente."
      ]
    },
    {
      "cell_type": "code",
      "execution_count": 41,
      "metadata": {
        "vscode": {
          "languageId": "plaintext"
        },
        "colab": {
          "base_uri": "https://localhost:8080/",
          "height": 128
        },
        "id": "Unh_2XlfAWvL",
        "outputId": "9c14a0e2-9f57-483e-d115-fd7aadbab955"
      },
      "outputs": [
        {
          "output_type": "stream",
          "name": "stdout",
          "text": [
            "Por favor, faça o upload do arquivo 'chinook.db'.\n"
          ]
        },
        {
          "output_type": "display_data",
          "data": {
            "text/plain": [
              "<IPython.core.display.HTML object>"
            ],
            "text/html": [
              "\n",
              "     <input type=\"file\" id=\"files-4a1fe5fa-bfac-4e1a-909d-299ce4f48958\" name=\"files[]\" multiple disabled\n",
              "        style=\"border:none\" />\n",
              "     <output id=\"result-4a1fe5fa-bfac-4e1a-909d-299ce4f48958\">\n",
              "      Upload widget is only available when the cell has been executed in the\n",
              "      current browser session. Please rerun this cell to enable.\n",
              "      </output>\n",
              "      <script>// Copyright 2017 Google LLC\n",
              "//\n",
              "// Licensed under the Apache License, Version 2.0 (the \"License\");\n",
              "// you may not use this file except in compliance with the License.\n",
              "// You may obtain a copy of the License at\n",
              "//\n",
              "//      http://www.apache.org/licenses/LICENSE-2.0\n",
              "//\n",
              "// Unless required by applicable law or agreed to in writing, software\n",
              "// distributed under the License is distributed on an \"AS IS\" BASIS,\n",
              "// WITHOUT WARRANTIES OR CONDITIONS OF ANY KIND, either express or implied.\n",
              "// See the License for the specific language governing permissions and\n",
              "// limitations under the License.\n",
              "\n",
              "/**\n",
              " * @fileoverview Helpers for google.colab Python module.\n",
              " */\n",
              "(function(scope) {\n",
              "function span(text, styleAttributes = {}) {\n",
              "  const element = document.createElement('span');\n",
              "  element.textContent = text;\n",
              "  for (const key of Object.keys(styleAttributes)) {\n",
              "    element.style[key] = styleAttributes[key];\n",
              "  }\n",
              "  return element;\n",
              "}\n",
              "\n",
              "// Max number of bytes which will be uploaded at a time.\n",
              "const MAX_PAYLOAD_SIZE = 100 * 1024;\n",
              "\n",
              "function _uploadFiles(inputId, outputId) {\n",
              "  const steps = uploadFilesStep(inputId, outputId);\n",
              "  const outputElement = document.getElementById(outputId);\n",
              "  // Cache steps on the outputElement to make it available for the next call\n",
              "  // to uploadFilesContinue from Python.\n",
              "  outputElement.steps = steps;\n",
              "\n",
              "  return _uploadFilesContinue(outputId);\n",
              "}\n",
              "\n",
              "// This is roughly an async generator (not supported in the browser yet),\n",
              "// where there are multiple asynchronous steps and the Python side is going\n",
              "// to poll for completion of each step.\n",
              "// This uses a Promise to block the python side on completion of each step,\n",
              "// then passes the result of the previous step as the input to the next step.\n",
              "function _uploadFilesContinue(outputId) {\n",
              "  const outputElement = document.getElementById(outputId);\n",
              "  const steps = outputElement.steps;\n",
              "\n",
              "  const next = steps.next(outputElement.lastPromiseValue);\n",
              "  return Promise.resolve(next.value.promise).then((value) => {\n",
              "    // Cache the last promise value to make it available to the next\n",
              "    // step of the generator.\n",
              "    outputElement.lastPromiseValue = value;\n",
              "    return next.value.response;\n",
              "  });\n",
              "}\n",
              "\n",
              "/**\n",
              " * Generator function which is called between each async step of the upload\n",
              " * process.\n",
              " * @param {string} inputId Element ID of the input file picker element.\n",
              " * @param {string} outputId Element ID of the output display.\n",
              " * @return {!Iterable<!Object>} Iterable of next steps.\n",
              " */\n",
              "function* uploadFilesStep(inputId, outputId) {\n",
              "  const inputElement = document.getElementById(inputId);\n",
              "  inputElement.disabled = false;\n",
              "\n",
              "  const outputElement = document.getElementById(outputId);\n",
              "  outputElement.innerHTML = '';\n",
              "\n",
              "  const pickedPromise = new Promise((resolve) => {\n",
              "    inputElement.addEventListener('change', (e) => {\n",
              "      resolve(e.target.files);\n",
              "    });\n",
              "  });\n",
              "\n",
              "  const cancel = document.createElement('button');\n",
              "  inputElement.parentElement.appendChild(cancel);\n",
              "  cancel.textContent = 'Cancel upload';\n",
              "  const cancelPromise = new Promise((resolve) => {\n",
              "    cancel.onclick = () => {\n",
              "      resolve(null);\n",
              "    };\n",
              "  });\n",
              "\n",
              "  // Wait for the user to pick the files.\n",
              "  const files = yield {\n",
              "    promise: Promise.race([pickedPromise, cancelPromise]),\n",
              "    response: {\n",
              "      action: 'starting',\n",
              "    }\n",
              "  };\n",
              "\n",
              "  cancel.remove();\n",
              "\n",
              "  // Disable the input element since further picks are not allowed.\n",
              "  inputElement.disabled = true;\n",
              "\n",
              "  if (!files) {\n",
              "    return {\n",
              "      response: {\n",
              "        action: 'complete',\n",
              "      }\n",
              "    };\n",
              "  }\n",
              "\n",
              "  for (const file of files) {\n",
              "    const li = document.createElement('li');\n",
              "    li.append(span(file.name, {fontWeight: 'bold'}));\n",
              "    li.append(span(\n",
              "        `(${file.type || 'n/a'}) - ${file.size} bytes, ` +\n",
              "        `last modified: ${\n",
              "            file.lastModifiedDate ? file.lastModifiedDate.toLocaleDateString() :\n",
              "                                    'n/a'} - `));\n",
              "    const percent = span('0% done');\n",
              "    li.appendChild(percent);\n",
              "\n",
              "    outputElement.appendChild(li);\n",
              "\n",
              "    const fileDataPromise = new Promise((resolve) => {\n",
              "      const reader = new FileReader();\n",
              "      reader.onload = (e) => {\n",
              "        resolve(e.target.result);\n",
              "      };\n",
              "      reader.readAsArrayBuffer(file);\n",
              "    });\n",
              "    // Wait for the data to be ready.\n",
              "    let fileData = yield {\n",
              "      promise: fileDataPromise,\n",
              "      response: {\n",
              "        action: 'continue',\n",
              "      }\n",
              "    };\n",
              "\n",
              "    // Use a chunked sending to avoid message size limits. See b/62115660.\n",
              "    let position = 0;\n",
              "    do {\n",
              "      const length = Math.min(fileData.byteLength - position, MAX_PAYLOAD_SIZE);\n",
              "      const chunk = new Uint8Array(fileData, position, length);\n",
              "      position += length;\n",
              "\n",
              "      const base64 = btoa(String.fromCharCode.apply(null, chunk));\n",
              "      yield {\n",
              "        response: {\n",
              "          action: 'append',\n",
              "          file: file.name,\n",
              "          data: base64,\n",
              "        },\n",
              "      };\n",
              "\n",
              "      let percentDone = fileData.byteLength === 0 ?\n",
              "          100 :\n",
              "          Math.round((position / fileData.byteLength) * 100);\n",
              "      percent.textContent = `${percentDone}% done`;\n",
              "\n",
              "    } while (position < fileData.byteLength);\n",
              "  }\n",
              "\n",
              "  // All done.\n",
              "  yield {\n",
              "    response: {\n",
              "      action: 'complete',\n",
              "    }\n",
              "  };\n",
              "}\n",
              "\n",
              "scope.google = scope.google || {};\n",
              "scope.google.colab = scope.google.colab || {};\n",
              "scope.google.colab._files = {\n",
              "  _uploadFiles,\n",
              "  _uploadFilesContinue,\n",
              "};\n",
              "})(self);\n",
              "</script> "
            ]
          },
          "metadata": {}
        },
        {
          "output_type": "stream",
          "name": "stdout",
          "text": [
            "Saving chinook.db to chinook (4).db\n",
            "\n",
            "Arquivo 'chinook.db' carregado com sucesso!\n"
          ]
        }
      ],
      "source": [
        "# Importar bibliotecas necessárias\n",
        "import os\n",
        "from sqlalchemy import create_engine, MetaData, Table\n",
        "from sqlalchemy.orm import sessionmaker\n",
        "from sqlalchemy.sql import select, func\n",
        "from google.colab import files  # Para upload no Google Colab\n",
        "\n",
        "# PASSO 1: Solicitar ao usuário o upload do arquivo 'chinook.db'\n",
        "print(\"Por favor, faça o upload do arquivo 'chinook.db'.\")\n",
        "uploaded = files.upload()  # Upload no Google Colab\n",
        "\n",
        "# Verificar se algum arquivo foi carregado\n",
        "if not uploaded:\n",
        "    raise FileNotFoundError(\n",
        "        \"Nenhum arquivo foi carregado. Por favor, baixe e extraia o arquivo 'chinook.zip' \"\n",
        "        \"do link: http://www.sqlitetutorial.net/wp-content/uploads/2018/03/chinook.zip e faça o upload novamente.\"\n",
        "    )\n",
        "\n",
        "# Salvar o arquivo com o nome 'chinook.db'\n",
        "with open('chinook.db', 'wb') as f:\n",
        "    for filename, file_content in uploaded.items():\n",
        "        f.write(file_content)\n",
        "\n",
        "# Verificar se o arquivo foi salvo corretamente\n",
        "if not os.path.exists('chinook.db'):\n",
        "    raise FileNotFoundError(\"Erro ao salvar o arquivo 'chinook.db'. Tente novamente.\")\n",
        "\n",
        "print(\"\\nArquivo 'chinook.db' carregado com sucesso!\")"
      ]
    },
    {
      "cell_type": "code",
      "execution_count": 42,
      "metadata": {
        "vscode": {
          "languageId": "plaintext"
        },
        "colab": {
          "base_uri": "https://localhost:8080/"
        },
        "id": "ZxirYuWqAWvO",
        "outputId": "24c277fc-0d3f-462d-8117-55909d90583a"
      },
      "outputs": [
        {
          "output_type": "stream",
          "name": "stdout",
          "text": [
            "AlbumId: 1, Title: For Those About To Rock We Salute You\n"
          ]
        }
      ],
      "source": [
        "from sqlalchemy import create_engine\n",
        "from sqlalchemy.orm import sessionmaker\n",
        "from sqlalchemy.ext.automap import automap_base\n",
        "\n",
        "# PASSO 1: Conectar ao banco de dados SQLite\n",
        "engine = create_engine('sqlite:///chinook.db')  # Certifique-se de que 'chinook.db' está carregado\n",
        "Session = sessionmaker(bind=engine)\n",
        "session = Session()\n",
        "\n",
        "# PASSO 2: Configurar o mapeamento ORM automaticamente\n",
        "Base = automap_base()\n",
        "Base.prepare(autoload_with=engine)  # Usar autoload_with em vez de reflect=True\n",
        "\n",
        "# Acessar a classe mapeada para a tabela 'albums'\n",
        "Album = Base.classes.albums\n",
        "\n",
        "# PASSO 3: Consultar o primeiro álbum\n",
        "first_album = session.query(Album).first()\n",
        "\n",
        "# Exibir o ID e o título do primeiro álbum\n",
        "if first_album:\n",
        "    print(f\"AlbumId: {first_album.AlbumId}, Title: {first_album.Title}\")\n",
        "else:\n",
        "    print(\"Nenhum álbum encontrado na tabela.\")"
      ]
    },
    {
      "cell_type": "markdown",
      "metadata": {
        "id": "Wgy7TXviAWvP"
      },
      "source": [
        "#### Q3.\n",
        "Com base nos códigos anteriores realize as operações solicitadas nas células a seguir:\n"
      ]
    },
    {
      "cell_type": "code",
      "execution_count": 49,
      "metadata": {
        "vscode": {
          "languageId": "plaintext"
        },
        "colab": {
          "base_uri": "https://localhost:8080/"
        },
        "id": "zsSa8YZUAWvQ",
        "outputId": "60f6f14a-107b-4043-b8b7-fed7362e9380"
      },
      "outputs": [
        {
          "output_type": "stream",
          "name": "stdout",
          "text": [
            "\n",
            "As 10 faixas mais vendidas:\n",
            "- Faixa: The Trooper, Total Vendido: 5\n",
            "- Faixa: Untitled, Total Vendido: 4\n",
            "- Faixa: The Number Of The Beast, Total Vendido: 4\n",
            "- Faixa: Sure Know Something, Total Vendido: 4\n",
            "- Faixa: Hallowed Be Thy Name, Total Vendido: 4\n",
            "- Faixa: Eruption, Total Vendido: 4\n",
            "- Faixa: Where Eagles Dare, Total Vendido: 3\n",
            "- Faixa: Welcome Home (Sanitarium), Total Vendido: 3\n",
            "- Faixa: Sweetest Thing, Total Vendido: 3\n",
            "- Faixa: Surrender, Total Vendido: 3\n"
          ]
        }
      ],
      "source": [
        "# Importar bibliotecas necessárias\n",
        "from sqlalchemy import create_engine, MetaData, Table\n",
        "from sqlalchemy.orm import sessionmaker\n",
        "from sqlalchemy.sql import func\n",
        "\n",
        "# PASSO 1: Conectar ao banco de dados SQLite\n",
        "engine = create_engine('sqlite:///chinook.db')  # Certifique-se de que 'chinook.db' está carregado\n",
        "Session = sessionmaker(bind=engine)\n",
        "session = Session()\n",
        "\n",
        "# PASSO 2: Carregar as tabelas do banco de dados\n",
        "metadata = MetaData()\n",
        "metadata.reflect(bind=engine)  # Associar a engine ao refletir as tabelas\n",
        "\n",
        "# Acessar as tabelas principais\n",
        "tracks_table = metadata.tables['tracks']\n",
        "invoice_items_table = metadata.tables['invoice_items']\n",
        "\n",
        "# PASSO 3: Imprimir os três primeiros registros da tabela tracks\n",
        "query = (\n",
        "    session.query(tracks_table.c.Name, func.sum(invoice_items_table.c.Quantity).label('total_vendido'))\n",
        "    .join(invoice_items_table, tracks_table.c.TrackId == invoice_items_table.c.TrackId)\n",
        "    .group_by(tracks_table.c.Name)\n",
        "    .order_by(func.sum(invoice_items_table.c.Quantity).desc())\n",
        "    .limit(10)\n",
        ")\n",
        "\n",
        "print(\"\\nAs 10 faixas mais vendidas:\")\n",
        "for result in query:  # Corrigindo a sintaxe aqui\n",
        "    print(f\"- Faixa: {result.Name}, Total Vendido: {result.total_vendido}\")"
      ]
    },
    {
      "cell_type": "code",
      "execution_count": 51,
      "metadata": {
        "vscode": {
          "languageId": "plaintext"
        },
        "colab": {
          "base_uri": "https://localhost:8080/"
        },
        "id": "mcfaU84BAWvR",
        "outputId": "84f65268-34e2-4a98-b268-abd623a44292"
      },
      "outputs": [
        {
          "output_type": "stream",
          "name": "stdout",
          "text": [
            "\n",
            "Nome da faixa e título do álbum das primeiras 20 faixas:\n",
            "- Faixa: For Those About To Rock (We Salute You), Álbum: For Those About To Rock We Salute You\n",
            "- Faixa: Put The Finger On You, Álbum: For Those About To Rock We Salute You\n",
            "- Faixa: Let's Get It Up, Álbum: For Those About To Rock We Salute You\n",
            "- Faixa: Inject The Venom, Álbum: For Those About To Rock We Salute You\n",
            "- Faixa: Snowballed, Álbum: For Those About To Rock We Salute You\n",
            "- Faixa: Evil Walks, Álbum: For Those About To Rock We Salute You\n",
            "- Faixa: C.O.D., Álbum: For Those About To Rock We Salute You\n",
            "- Faixa: Breaking The Rules, Álbum: For Those About To Rock We Salute You\n",
            "- Faixa: Night Of The Long Knives, Álbum: For Those About To Rock We Salute You\n",
            "- Faixa: Spellbound, Álbum: For Those About To Rock We Salute You\n",
            "- Faixa: Balls to the Wall, Álbum: Balls to the Wall\n",
            "- Faixa: Fast As a Shark, Álbum: Restless and Wild\n",
            "- Faixa: Restless and Wild, Álbum: Restless and Wild\n",
            "- Faixa: Princess of the Dawn, Álbum: Restless and Wild\n",
            "- Faixa: Go Down, Álbum: Let There Be Rock\n",
            "- Faixa: Dog Eat Dog, Álbum: Let There Be Rock\n",
            "- Faixa: Let There Be Rock, Álbum: Let There Be Rock\n",
            "- Faixa: Bad Boy Boogie, Álbum: Let There Be Rock\n",
            "- Faixa: Problem Child, Álbum: Let There Be Rock\n",
            "- Faixa: Overdose, Álbum: Let There Be Rock\n"
          ]
        }
      ],
      "source": [
        "### Imprima o nome da faixa e o título do álbum das primeiras 20 faixas na tabela tracks.\n",
        "# Importar bibliotecas necessárias\n",
        "from sqlalchemy import create_engine, MetaData, Table\n",
        "from sqlalchemy.orm import sessionmaker\n",
        "\n",
        "# PASSO 1: Conectar ao banco de dados SQLite\n",
        "engine = create_engine('sqlite:///chinook.db')  # Certifique-se de que 'chinook.db' está carregado\n",
        "Session = sessionmaker(bind=engine)\n",
        "session = Session()\n",
        "\n",
        "# PASSO 2: Carregar as tabelas do banco de dados\n",
        "metadata = MetaData()\n",
        "metadata.reflect(bind=engine)  # Associar a engine ao refletir as tabelas\n",
        "\n",
        "# Acessar as tabelas principais\n",
        "tracks_table = metadata.tables['tracks']\n",
        "albums_table = metadata.tables['albums']\n",
        "\n",
        "# PASSO 3: Imprimir o nome da faixa e o título do álbum das primeiras 20 faixas\n",
        "query = (\n",
        "    session.query(tracks_table.c.Name, albums_table.c.Title)\n",
        "    .join(albums_table, tracks_table.c.AlbumId == albums_table.c.AlbumId)\n",
        "    .limit(20)\n",
        ")\n",
        "\n",
        "print(\"\\nNome da faixa e título do álbum das primeiras 20 faixas:\")\n",
        "for result in query:\n",
        "    print(f\"- Faixa: {result.Name}, Álbum: {result.Title}\")"
      ]
    },
    {
      "cell_type": "code",
      "execution_count": 54,
      "metadata": {
        "vscode": {
          "languageId": "plaintext"
        },
        "colab": {
          "base_uri": "https://localhost:8080/"
        },
        "id": "r2xniNzvAWvS",
        "outputId": "77299238-056c-46b2-95b4-b1977177df22"
      },
      "outputs": [
        {
          "output_type": "stream",
          "name": "stdout",
          "text": [
            "\n",
            "10 primeiras vendas de faixas:\n",
            "- InvoiceId: 1, TrackId: 2, Quantidade: 1, Preço: 0.99\n",
            "- InvoiceId: 1, TrackId: 4, Quantidade: 1, Preço: 0.99\n",
            "- InvoiceId: 2, TrackId: 6, Quantidade: 1, Preço: 0.99\n",
            "- InvoiceId: 2, TrackId: 8, Quantidade: 1, Preço: 0.99\n",
            "- InvoiceId: 2, TrackId: 10, Quantidade: 1, Preço: 0.99\n",
            "- InvoiceId: 2, TrackId: 12, Quantidade: 1, Preço: 0.99\n",
            "- InvoiceId: 3, TrackId: 16, Quantidade: 1, Preço: 0.99\n",
            "- InvoiceId: 3, TrackId: 20, Quantidade: 1, Preço: 0.99\n",
            "- InvoiceId: 3, TrackId: 24, Quantidade: 1, Preço: 0.99\n",
            "- InvoiceId: 3, TrackId: 28, Quantidade: 1, Preço: 0.99\n",
            "\n",
            "Nomes das faixas vendidas e quantidade vendida:\n",
            "- Faixa: Balls to the Wall, Quantidade: 1\n",
            "- Faixa: Restless and Wild, Quantidade: 1\n",
            "- Faixa: Put The Finger On You, Quantidade: 1\n",
            "- Faixa: Inject The Venom, Quantidade: 1\n",
            "- Faixa: Evil Walks, Quantidade: 1\n",
            "- Faixa: Breaking The Rules, Quantidade: 1\n",
            "- Faixa: Dog Eat Dog, Quantidade: 1\n",
            "- Faixa: Overdose, Quantidade: 1\n",
            "- Faixa: Love In An Elevator, Quantidade: 1\n",
            "- Faixa: Janie's Got A Gun, Quantidade: 1\n"
          ]
        }
      ],
      "source": [
        "### Imprima as 10 primeiras vendas de faixas da tabela invoice_items\n",
        "### Para essas 10 primeiras vendas, imprima os nomes das faixas vendidas e a quantidade vendida.\n",
        "\n",
        "# Importar bibliotecas necessárias\n",
        "from sqlalchemy import create_engine, MetaData, Table\n",
        "from sqlalchemy.orm import sessionmaker\n",
        "\n",
        "# PASSO 1: Conectar ao banco de dados SQLite\n",
        "engine = create_engine('sqlite:///chinook.db')  # Certifique-se de que 'chinook.db' está carregado\n",
        "Session = sessionmaker(bind=engine)\n",
        "session = Session()\n",
        "\n",
        "# PASSO 2: Carregar as tabelas do banco de dados\n",
        "metadata = MetaData()\n",
        "metadata.reflect(bind=engine)  # Associar a engine ao refletir as tabelas\n",
        "\n",
        "# Acessar as tabelas principais\n",
        "tracks_table = metadata.tables['tracks']\n",
        "invoice_items_table = metadata.tables['invoice_items']\n",
        "\n",
        "# PASSO 3: Imprimir as 10 primeiras vendas de faixas\n",
        "query = (\n",
        "    session.query(invoice_items_table.c.InvoiceId, invoice_items_table.c.TrackId, invoice_items_table.c.Quantity, invoice_items_table.c.UnitPrice)\n",
        "    .limit(10)\n",
        ")\n",
        "\n",
        "print(\"\\n10 primeiras vendas de faixas:\")\n",
        "for item in query:\n",
        "    print(f\"- InvoiceId: {item.InvoiceId}, TrackId: {item.TrackId}, Quantidade: {item.Quantity}, Preço: {item.UnitPrice}\")\n",
        "\n",
        "# PASSO 4: Para essas 10 primeiras vendas, imprimir os nomes das faixas vendidas e a quantidade vendida\n",
        "query = (\n",
        "    session.query(tracks_table.c.Name, invoice_items_table.c.Quantity)\n",
        "    .join(invoice_items_table, tracks_table.c.TrackId == invoice_items_table.c.TrackId)\n",
        "    .limit(10)\n",
        ")\n",
        "\n",
        "print(\"\\nNomes das faixas vendidas e quantidade vendida:\")\n",
        "for track_name, quantity in query:\n",
        "    print(f\"- Faixa: {track_name}, Quantidade: {quantity}\")"
      ]
    },
    {
      "cell_type": "code",
      "execution_count": 55,
      "metadata": {
        "vscode": {
          "languageId": "plaintext"
        },
        "colab": {
          "base_uri": "https://localhost:8080/"
        },
        "id": "hzI7xPHOAWvT",
        "outputId": "65748cfb-7647-45b8-d6b7-c3d77434308f"
      },
      "outputs": [
        {
          "output_type": "stream",
          "name": "stdout",
          "text": [
            "\n",
            "10 faixas mais vendidas:\n",
            "- Faixa: The Trooper, Total Vendido: 5\n",
            "- Faixa: Untitled, Total Vendido: 4\n",
            "- Faixa: The Number Of The Beast, Total Vendido: 4\n",
            "- Faixa: Sure Know Something, Total Vendido: 4\n",
            "- Faixa: Hallowed Be Thy Name, Total Vendido: 4\n",
            "- Faixa: Eruption, Total Vendido: 4\n",
            "- Faixa: Where Eagles Dare, Total Vendido: 3\n",
            "- Faixa: Welcome Home (Sanitarium), Total Vendido: 3\n",
            "- Faixa: Sweetest Thing, Total Vendido: 3\n",
            "- Faixa: Surrender, Total Vendido: 3\n"
          ]
        }
      ],
      "source": [
        "### Imprima os nomes das 10 faixas mais vendidas e quantas vezes foram vendidas.\n",
        "query = (\n",
        "    session.query(tracks_table.c.Name, func.sum(invoice_items_table.c.Quantity).label('total_vendido'))\n",
        "    .join(tracks_table, invoice_items_table.c.TrackId == tracks_table.c.TrackId)\n",
        "    .group_by(tracks_table.c.Name)\n",
        "    .order_by(func.sum(invoice_items_table.c.Quantity).desc())\n",
        "    .limit(10)\n",
        ")\n",
        "\n",
        "print(\"\\n10 faixas mais vendidas:\")\n",
        "for track_name, total_sold in query:\n",
        "    print(f\"- Faixa: {track_name}, Total Vendido: {total_sold}\")\n",
        "\n"
      ]
    },
    {
      "cell_type": "code",
      "execution_count": 59,
      "metadata": {
        "vscode": {
          "languageId": "plaintext"
        },
        "colab": {
          "base_uri": "https://localhost:8080/"
        },
        "id": "48WTYDvEAWvU",
        "outputId": "e60a8aa6-066b-4a4f-fba2-a384ce09700a"
      },
      "outputs": [
        {
          "output_type": "stream",
          "name": "stdout",
          "text": [
            "\n",
            "10 artistas que mais venderam:\n",
            "- Artista: Iron Maiden, Total Vendido: 140\n",
            "- Artista: U2, Total Vendido: 107\n",
            "- Artista: Metallica, Total Vendido: 91\n",
            "- Artista: Led Zeppelin, Total Vendido: 87\n",
            "- Artista: Os Paralamas Do Sucesso, Total Vendido: 45\n",
            "- Artista: Deep Purple, Total Vendido: 44\n",
            "- Artista: Faith No More, Total Vendido: 42\n",
            "- Artista: Lost, Total Vendido: 41\n",
            "- Artista: Eric Clapton, Total Vendido: 40\n",
            "- Artista: R.E.M., Total Vendido: 39\n"
          ]
        }
      ],
      "source": [
        "### Quem são os 10 artistas que mais venderam?\n",
        "### dica: você precisa juntar as tabelas invoice_items, tracks, albums e artists\n",
        "# Importar bibliotecas necessárias\n",
        "from sqlalchemy import create_engine, MetaData, Table\n",
        "from sqlalchemy.orm import sessionmaker\n",
        "from sqlalchemy.sql import func\n",
        "\n",
        "# PASSO 1: Conectar ao banco de dados SQLite\n",
        "engine = create_engine('sqlite:///chinook.db')  # Certifique-se de que 'chinook.db' está carregado\n",
        "Session = sessionmaker(bind=engine)\n",
        "session = Session()\n",
        "\n",
        "# PASSO 2: Carregar as tabelas do banco de dados\n",
        "metadata = MetaData()\n",
        "metadata.reflect(bind=engine)  # Associar a engine ao refletir as tabelas\n",
        "\n",
        "# Acessar as tabelas principais\n",
        "invoice_items_table = metadata.tables['invoice_items']\n",
        "tracks_table = metadata.tables['tracks']\n",
        "albums_table = metadata.tables['albums']\n",
        "artists_table = metadata.tables['artists']\n",
        "\n",
        "# PASSO 3: Consulta para encontrar os 10 artistas que mais venderam\n",
        "query = (\n",
        "    session.query(artists_table.c.Name, func.sum(invoice_items_table.c.Quantity).label('total_vendido'))\n",
        "    .join(tracks_table, invoice_items_table.c.TrackId == tracks_table.c.TrackId)\n",
        "    .join(albums_table, tracks_table.c.AlbumId == albums_table.c.AlbumId)\n",
        "    .join(artists_table, albums_table.c.ArtistId == artists_table.c.ArtistId)\n",
        "    .group_by(artists_table.c.Name)\n",
        "    .order_by(func.sum(invoice_items_table.c.Quantity).desc())\n",
        "    .limit(10)\n",
        ")\n",
        "\n",
        "print(\"\\n10 artistas que mais venderam:\")\n",
        "for artist_name, total_sold in query:\n",
        "    print(f\"- Artista: {artist_name}, Total Vendido: {total_sold}\")"
      ]
    }
  ],
  "metadata": {
    "language_info": {
      "name": "python"
    },
    "colab": {
      "provenance": [],
      "toc_visible": true
    },
    "kernelspec": {
      "name": "python3",
      "display_name": "Python 3"
    }
  },
  "nbformat": 4,
  "nbformat_minor": 0
}