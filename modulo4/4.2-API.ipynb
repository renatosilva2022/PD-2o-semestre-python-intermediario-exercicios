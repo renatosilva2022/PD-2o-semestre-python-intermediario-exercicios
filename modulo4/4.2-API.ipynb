{
 "cells": [
  {
   "cell_type": "markdown",
   "metadata": {},
   "source": [
    "> Projeto Desenvolve <br>\n",
    "Programação Intermediária com Python <br>\n",
    "Profa. Camila Laranjeira (mila@projetodesenvolve.com.br) <br>\n",
    "\n",
    "# 4.2 - APIs\n"
   ]
  },
  {
   "cell_type": "markdown",
   "metadata": {},
   "source": [
    "## Exercícios 🔭🌌🪐\n",
    "\n",
    "Vamos acessar as APIs da NASA para ver algumas imagens interessantes capturadas universo afora!\n",
    "\n",
    "#### Q1.\n",
    "Crie uma chave no site oficial:\n",
    "* https://api.nasa.gov\n",
    "\n",
    "Vamos armazenar a chave de forma segura! <br>\n",
    "Salve a sua chave em um arquivo `key.json` na forma:\n",
    "`API_KEY=SUA_CHAVE`\n",
    "\n",
    "Adicione o nome do arquivo `key.json` ao `.gitignore` do repositório que você fará upload da atividade.\n",
    "Para isso basta abrir o arquivo `.gitignore` na pasta raíz do repositório (ou criar um caso ele não exista). Dentro do arquivo, apenas adiciona o nome do arquivo que deseja ignorar."
   ]
  },
  {
   "cell_type": "markdown",
   "metadata": {},
   "source": [
    "#### Q2. 🛰 Astronomy Picture of the Day (APOD) 🌌\n",
    "> Antes de fazer os exercícios, devo te lembrar que existem limites de acesso às APIs, descritas na página principal, portanto pega leve na tentativa e erro na hora de testar seu código.\n",
    "\n",
    "<img width=500 src=https://apod.nasa.gov/apod/image/2407/M24-HaLRGB-RC51_1024.jpg>\n",
    "\n",
    "A primeira API que acessaremos é a mais popular de todas: astronomy picture of the day (foto astronômica do dia).\n",
    "\n",
    "Faça uma requisição GET para a URL da API que retorna a imagem do dia! Essa é fácil já que são os valores padrão da rota principal:\n",
    "* URL base: `'https://api.nasa.gov/planetary/apod'`\n",
    "* Endpoint: não precisa preencher, acessaremos a raíz da API.\n",
    "* Query params: preencha `api_key` com a sua chave de autenticação. Se animar mexer em outros parâmetros veja [a documentação](https://api.nasa.gov).\n",
    "\n",
    "Ao receber a resposta (um json), você deve:\n",
    "* Imprimir os campos `copyright` e `explanation`\n",
    "* Com as biblioteca scikit-images e matplotlib, apresente a imagem a partir do campo `url` ou `hdurl`, e preencha o título do plot com o campo `title` do json. Uma dica de código a seguir.\n",
    "```python\n",
    "from skimage import io\n",
    "img = io.imread(url)\n",
    "## plot a matriz img com matplotlib (imshow)\n",
    "```   "
   ]
  },
  {
   "cell_type": "code",
   "execution_count": null,
   "metadata": {},
   "outputs": [],
   "source": []
  },
  {
   "cell_type": "markdown",
   "metadata": {},
   "source": [
    "#### Q3. Limites\n",
    "A partir da resposta da query anterios, imprima o header da resposta e consulte os atributos:\n",
    "* X-RateLimit-Limit: o limite total de requisições da sua chave de API\n",
    "* X-RateLimit-Remaining: o limite restante de requisições da sua chave de API"
   ]
  },
  {
   "cell_type": "code",
   "execution_count": null,
   "metadata": {},
   "outputs": [],
   "source": []
  },
  {
   "cell_type": "markdown",
   "metadata": {},
   "source": [
    "### Q4. Mars Rover Photos 🚀🚙 📷\n",
    "\n",
    "<img width=500 src=https://www.nasa.gov/wp-content/uploads/2019/10/pia23378-16.jpg>\n",
    "\n",
    "Essa API retorna dados (incluindo imagens capturadas) sobre os veículos que hoje habitam o planeta Marte. São os rovers `opportunity`, `spirit` e o mais famoso, o `curiosity` (da foto acima).\n",
    "\n",
    "Antes de requisitar imagens, vamos ver o relatório de dados coletados por um deles, o `curiosity`. Isso vai nos ajudar a montar a query de imagens coletadas.\n",
    "\n",
    "Faça uma requisição GET para a seguinte URL:\n",
    "* URL base: `'https://api.nasa.gov/mars-photos/api/v1'`\n",
    "* endpoint: `'/manifests/{nome_do_rover}'`\n",
    "* query parameters: preencha `api_key` com a sua chave de autenticação.\n",
    "\n",
    "Extraia o json da resposta retornada. O campo principal é o `'photo_manifest'`, do qual queremos acessar os seguintes valores:\n",
    "* `max_sol`: Máximo \"dia marciano\" de coleta de fotos. O dia marciano tem 24 horas, 39 minutos e 35 segundos.\n",
    "* `max_date`: Última data terrestre de coleta de fotos, na forma `'aaaa-mm-dd'`.\n",
    "\n",
    "Imprima esses dois atributos da resposta e os use no próximo exercício para coletar as fotos mais recentes tiradas. "
   ]
  },
  {
   "cell_type": "code",
   "execution_count": null,
   "metadata": {},
   "outputs": [],
   "source": []
  },
  {
   "cell_type": "markdown",
   "metadata": {},
   "source": [
    "#### Q5.\n",
    "\n",
    "Faça uma requisição GET para a URL da API que retorna links para as imagens coletadas pelos rovers.\n",
    "\n",
    "* URL base: `'https://api.nasa.gov/mars-photos/api/v1'`\n",
    "* Endpoint: `/rovers/{nome_do_rover}/photos`\n",
    "* Query params sugeridos: \n",
    "    * `api_key`: sua chave de autenticação.\n",
    "    * `sol`: dia marciano que deseja coletar (de 0 a `max_sol` coletado anteriormente)\n",
    "    * `page`: você pode paginar entre as respostas! São retornados 25 resultados por página.\n",
    "\n",
    "A resposta esperada estará no formato a seguir, uma lista no campo `'photos'` onde cada item é um dicionário com os dados da foto tirada. Dentre os dados há o campo `camera` indicando qual das câmeras do rover tirou a foto. As fotos mais interessantes (na minha opinião, claro) são das câmeras de navegação (`\"name\": \"NAVCAM\"`) e as de prevenção de colisão (frente: `\"name\": \"FHAZ\"` e trás `\"name\": \"RHAZ\"`) onde dá pra ver partes do robô!\n",
    "\n",
    "**Seu trabalho é**:\n",
    "* Paginar a requisição acima até que a resposta seja `None`\n",
    "* Escolher uma ou mais câmeras (ex: `NAVCAM`, `FHAZ`, `RHAZ`), e em um laço de repetição plotar todas as imagens retornadas daquela câmera. Use novamente as bibliotecas scikit-image e matplotlib. \n",
    "  * O título da imagem deve ter a página da requisição, nome da câmera e id da imagem.\n",
    "\n",
    "```json\n",
    "{\n",
    "  \"photos\": [\n",
    "    {\n",
    "      \"id\": 1228212,\n",
    "      \"sol\": 4102,\n",
    "      \"camera\": {\n",
    "        \"id\": 20,\n",
    "        \"name\": \"FHAZ\",\n",
    "        \"rover_id\": 5,\n",
    "        \"full_name\": \"Front Hazard Avoidance Camera\"\n",
    "      },\n",
    "      \"img_src\": \"https://mars.nasa.gov/msl-raw-images/proj/msl/redops/ods/surface/sol/04102/opgs/edr/fcam/FLB_761645828EDR_F1060660FHAZ00302M_.JPG\",\n",
    "      \"earth_date\": \"2024-02-19\",\n",
    "      \"rover\": {\n",
    "        \"id\": 5,\n",
    "        \"name\": \"Curiosity\",\n",
    "        ...\n",
    "      }\n",
    "    }\n",
    "    {\n",
    "      \"id\": 1228213,\n",
    "      \"sol\": 4102, \n",
    "      ...\n",
    "    }\n",
    "```\n",
    "\n"
   ]
  },
  {
   "cell_type": "markdown",
   "metadata": {},
   "source": []
  }
 ],
 "metadata": {
  "language_info": {
   "name": "python"
  }
 },
 "nbformat": 4,
 "nbformat_minor": 2
}
