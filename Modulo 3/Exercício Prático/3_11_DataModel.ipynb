{
  "cells": [
    {
      "cell_type": "markdown",
      "metadata": {
        "id": "xRDaQeJQfBRl"
      },
      "source": [
        "> Projeto Desenvolve <br>\n",
        "Programação Intermediária com Python <br>\n",
        "Profa. Camila Laranjeira (mila@projetodesenvolve.com.br) <br>\n",
        "\n",
        "# 3.11 - Data Model"
      ]
    },
    {
      "cell_type": "markdown",
      "metadata": {
        "id": "egKHdKDUfBRt"
      },
      "source": [
        "## Exercícios\n",
        "\n",
        "#### Q1. `dataclass`\n",
        "Exercício adaptado de [codechalleng.es/bites/154/](https://codechalleng.es/bites/154/) e [codechalleng.es/bites/320/](https://codechalleng.es/bites/320/).\n",
        "\n",
        "Neste desafio, você deve escrever uma `dataclass` chamada `Bite` que gerencia 3 atributos: `number`, `title` e `level`. Seus tipos são:\n",
        "* `number` - `int`,\n",
        "* `title` - `str`,\n",
        "* `level` -  classe `Enum` chamada `BiteLevel` com os atributos `Beginner`, `Intermediate`, `Advanced`.\n",
        "\n",
        "Exemplo de dado: `{'number': 154, 'title': 'Escreva uma dataclass', 'level': BiteLevel.Intermediate}`\n",
        "\n",
        "As características dessa classe são:\n",
        "* O atributo`level` tem um valor padrão `BiteLevel.Beginner`\n",
        "* Uma coleção de objetos `Bite` tem que ser ordenável somente pelo atributo `number`\n",
        "* Implemente o método especial `__str__` para imprimir o Bite na forma `f'{number} - {title} ({level})'`\n",
        "\n",
        "Teste sua classe executando o seguinte código:\n",
        "```python\n",
        "bites = []\n",
        "bites.append(Bite(154, 'Escreva uma dataclass', 'Intermediate'))\n",
        "bites.append(Bite(1, 'Some n valores'))\n",
        "bites.append(Bite(37, 'Reescreva um loop com recursão', 'Intermediate'))\n",
        "\n",
        "for b in bites.sort(): print(b)\n",
        "# Ordem esperada na saída:\n",
        "# 1 - Some n valores (Beginner)\n",
        "# 37 - Reescreva um loop com recursão (Intermediate)\n",
        "# 154 - Escreva uma dataclass (Intermediate)\n",
        "```"
      ]
    },
    {
      "cell_type": "code",
      "execution_count": null,
      "metadata": {
        "id": "j_6Jl3NQfBRw",
        "outputId": "627f0220-5a35-4b52-dab7-dafba56383f3"
      },
      "outputs": [
        {
          "name": "stdout",
          "output_type": "stream",
          "text": [
            "1 - Some n valores (Beginner)\n",
            "37 - Reescreva um loop com recursão (Intermediate)\n",
            "154 - Escreva uma dataclass (Intermediate)\n"
          ]
        }
      ],
      "source": [
        "from dataclasses import dataclass\n",
        "from enum import Enum\n",
        "\n",
        "class BiteLevel(Enum):\n",
        "    Beginner= 'Beginner'\n",
        "    Intermediate= 'Intermediate'\n",
        "    Advanced ='Advanced'\n",
        "\n",
        "@dataclass(order=True)\n",
        "class Bite:\n",
        "    number: int\n",
        "    title: str\n",
        "    level: BiteLevel= BiteLevel.Beginner\n",
        "\n",
        "    def __str__(self):\n",
        "        return f'{self.number} - {self.title} ({self.level.value})'\n",
        "\n",
        "bites = []\n",
        "bites.append(Bite(154, 'Escreva uma dataclass', BiteLevel.Intermediate))\n",
        "bites.append(Bite(1, 'Some n valores'))\n",
        "bites.append(Bite(37, 'Reescreva um loop com recursão', BiteLevel.Intermediate))\n",
        "\n",
        "for b in sorted(bites):\n",
        "    print(b)\n"
      ]
    },
    {
      "cell_type": "markdown",
      "metadata": {
        "id": "RzkWeDSSfBR0"
      },
      "source": [
        "#### Q2. `Pydantic`\n",
        "> Adaptada desse [tutorial de Pydantic](https://github.com/adonath/scipy-2023-pydantic-tutorial/tree/main) criado por [Axel Donath](https://github.com/adonath) e [Nick Langellier](https://github.com/nlangellier).\n",
        "\n",
        "Observe a seguinte lista de observações da previsão do tempo em Murmansk, Russia.\n",
        "```python\n",
        "data_samples = [\n",
        "    {\n",
        "        \"date\": \"2023-05-20\",\n",
        "        \"temperature\": 62.2,\n",
        "        \"isCelsius\": False,\n",
        "        \"airQualityIndex\": \"24\",\n",
        "        \"sunriseTime\": \"01:26\",\n",
        "        \"sunsetTime\": \"00:00\",\n",
        "    },\n",
        "    {\n",
        "        \"date\": \"2023-05-21\",\n",
        "        \"temperature\": \"64.4\",\n",
        "        \"isCelsius\": \"not true\",\n",
        "        \"airQualityIndex\": 23,\n",
        "        \"sunriseTime\": \"01:10\",\n",
        "        \"sunsetTime\": \"00:16\",\n",
        "    },\n",
        "    {\n",
        "        \"date\": \"2023-05-22\",\n",
        "        \"temperature\": 14.4,\n",
        "        \"airQualityIndex\": 21,\n",
        "    },\n",
        "]\n",
        "```\n",
        "\n",
        "Escreva um script que calcule e imprima a temperatura média (em Celsius) em Murmansk para as datas fornecidas. Em seu script, você deve incluir um modelo Pydantic que registre com sucesso todos os elementos dados. Note que:\n",
        "\n",
        "* Algumas amostras estão faltando dados. Você deve decidir quando o atributo pode ter um valor padrão ou quando definí-lo como opcional (`typing.Optional`).\n",
        "* Você precisará implementar pelo menos um validador de campo para transformar atributos. Dica: teste primeiro quais vão falhar :)\n",
        "\n"
      ]
    },
    {
      "cell_type": "code",
      "execution_count": null,
      "metadata": {
        "id": "ctkh9nsufBR2",
        "outputId": "94102aa1-f9b8-49f5-bd9d-10e576001530"
      },
      "outputs": [
        {
          "name": "stdout",
          "output_type": "stream",
          "text": [
            "Average temperature in Murmansk: 47.00°C\n"
          ]
        }
      ],
      "source": [
        "from pydantic import BaseModel, Field, field_validator\n",
        "from typing import Optional\n",
        "from datetime import time\n",
        "\n",
        "class WeatherObservation(BaseModel):\n",
        "    date: str\n",
        "    temperature: float\n",
        "    isCelsius: Optional[bool] = Field(default=True)\n",
        "    airQualityIndex: Optional[int] = None\n",
        "    sunriseTime: Optional[time] = None\n",
        "    sunsetTime: Optional[time] = None\n",
        "\n",
        "    @field_validator(\"isCelsius\", mode=\"before\")\n",
        "    def parse_is_celsius(cls, value):\n",
        "        if isinstance(value, str):\n",
        "            return value.lower() in [\"true\", \"yes\", \"1\"]\n",
        "        return bool(value)\n",
        "\n",
        "    @field_validator(\"temperature\", mode=\"before\")\n",
        "    def convert_temperature(cls, value, info):\n",
        "        is_celsius = info.data.get(\"isCelsius\", True)\n",
        "        if isinstance(value, str):\n",
        "            try:\n",
        "                value = float(value)\n",
        "            except ValueError:\n",
        "                raise ValueError(f\"Invalid temperature value: {value}\")\n",
        "        return (value - 32) * 5 / 9 if not is_celsius else value\n",
        "\n",
        "    @field_validator(\"airQualityIndex\", mode=\"before\")\n",
        "    def parse_air_quality_index(cls, value):\n",
        "        if value is None:\n",
        "            return None\n",
        "        return int(value)\n",
        "\n",
        "    @field_validator(\"sunriseTime\", \"sunsetTime\", mode=\"before\")\n",
        "    def parse_time(cls, value):\n",
        "        if value:\n",
        "            return time.fromisoformat(value)\n",
        "        return None\n",
        "\n",
        "data_samples = [\n",
        "    {\n",
        "        \"date\": \"2023-05-20\",\n",
        "        \"temperature\": 62.2,\n",
        "        \"isCelsius\": False,\n",
        "        \"airQualityIndex\": \"24\",\n",
        "        \"sunriseTime\": \"01:26\",\n",
        "        \"sunsetTime\": \"00:00\",\n",
        "    },\n",
        "    {\n",
        "        \"date\": \"2023-05-21\",\n",
        "        \"temperature\": \"64.4\",\n",
        "        \"isCelsius\": \"not true\",\n",
        "        \"airQualityIndex\": 23,\n",
        "        \"sunriseTime\": \"01:10\",\n",
        "        \"sunsetTime\": \"00:16\",\n",
        "    },\n",
        "    {\n",
        "        \"date\": \"2023-05-22\",\n",
        "        \"temperature\": 14.4,\n",
        "        \"airQualityIndex\": 21,\n",
        "    },\n",
        "]\n",
        "\n",
        "valid_observations = []\n",
        "for sample in data_samples:\n",
        "    try:\n",
        "        observation = WeatherObservation(**sample)\n",
        "        valid_observations.append(observation)\n",
        "    except Exception as e:\n",
        "        print(f\"Error processing sample {sample}: {e}\")\n",
        "\n",
        "if valid_observations:\n",
        "    avg_temperature_celsius = sum(obs.temperature for obs in valid_observations) / len(valid_observations)\n",
        "    print(f\"Average temperature in Murmansk: {avg_temperature_celsius:.2f}°C\")\n",
        "else:\n",
        "    print(\"No valid observations to calculate the average temperature.\")\n"
      ]
    },
    {
      "cell_type": "markdown",
      "metadata": {
        "id": "gc914yRXfBR3"
      },
      "source": [
        "#### Q3\n",
        "> Adaptada desse [tutorial de Pydantic](https://github.com/adonath/scipy-2023-pydantic-tutorial/tree/main) criado por [Axel Donath](https://github.com/adonath) e [Nick Langellier](https://github.com/nlangellier).\n",
        "\n",
        "Na célula a seguir, coletamos dados reais de uma das principais APIs de previsão do tempo, [open-meteo](https://open-meteo.com/en/docs). Não se preocupe em entender esse código, o mais importante é entender o resultado que ele retorna, ilustrado a seguir para uma coleta da temperatura dos últimos 15 dias em Itabira -MG. Caso deseje alterar a cidade de coleta, basta alimentar a latitude e longitude desejada, como nas opções a seguir.\n",
        "* Itabira: `'latitude': -19.656655787605846, 'longitude': -43.228922960534476`\n",
        "* Bom Despacho: `'latitude': -19.726308457732443, 'longitude': -45.27462803349767`\n",
        "\n",
        "```python\n",
        "{\n",
        "  \"latitude\": -19.5,\n",
        "  \"longitude\": -43.375,\n",
        "  \"generationtime_ms\": 0.01800060272216797,\n",
        "  \"utc_offset_seconds\": 0,\n",
        "  \"timezone\": \"GMT\",\n",
        "  \"timezone_abbreviation\": \"GMT\",\n",
        "  \"elevation\": 2.0,\n",
        "  \"hourly_units\": {\n",
        "    \"time\": \"iso8601\",\n",
        "    \"temperature_2m\": \"\\u00b0C\"\n",
        "  },\n",
        "  \"hourly\": {\n",
        "    \"time\": [\n",
        "      \"2024-07-19T00:00\",\n",
        "      \"2024-07-19T01:00\",\n",
        "      \"2024-07-19T02:00\",\n",
        "      ...\n",
        "    ],\n",
        "    \"temperature_2m\": [\n",
        "      21.9,\n",
        "      20.9,\n",
        "      20.0,\n",
        "      ...\n",
        "    ]\n",
        "  }\n",
        "}\n",
        "```\n",
        "\n",
        "Você deve escrever um modelo Pydantic `OpenMeteo` que receba diretamente a resposta dessa API, através do comando:\n",
        "```python\n",
        "dados = OpenMeteo(**response)\n",
        "```\n",
        "\n",
        "Para comportar a estrutura hierárquica desse dicionário (é um dicionário com alguns dicionários internos), você deve criar uma classe Pydantic para cada dicionário interno (`HourlyUnits` e `Hourly`), com seus respectivos atributos. Essas classes serão atributos da classe principal `OpenMeteo`, que terá também os outros atributos da resposta (`latitude`, `longitude`, etc.).\n",
        "\n"
      ]
    },
    {
      "cell_type": "code",
      "execution_count": null,
      "metadata": {
        "id": "5lB-2p49fBR4"
      },
      "outputs": [],
      "source": [
        "import requests, json\n",
        "\n",
        "url = 'https://api.open-meteo.com/v1/forecast'\n",
        "lat, long = -19.656655787605846, -43.228922960534476\n",
        "params = {'latitude': lat, 'longitude': long, 'elevation': 2,\n",
        "          'hourly': 'temperature_2m', 'forecast_days': 15}\n",
        "response = requests.get(url, params=params).json()\n",
        "print(json.dumps(response, indent=2))"
      ]
    },
    {
      "cell_type": "code",
      "execution_count": null,
      "metadata": {
        "id": "Mw5dtfeyfBR5",
        "outputId": "da564840-2169-485d-bbb6-5c27c7bf8c83"
      },
      "outputs": [
        {
          "name": "stdout",
          "output_type": "stream",
          "text": [
            "latitude=-19.5 longitude=-43.375 generationtime_ms=0.01800060272216797 utc_offset_seconds=0 timezone='GMT' timezone_abbreviation='GMT' elevation=2.0 hourly_units=HourlyUnits(time='iso8601', temperature_2m='°C') hourly=Hourly(time=['2024-07-19T00:00', '2024-07-19T01:00', '2024-07-19T02:00'], temperature_2m=[21.9, 20.9, 20.0])\n"
          ]
        }
      ],
      "source": [
        "from pydantic import BaseModel, Field\n",
        "from typing import List\n",
        "\n",
        "class HourlyUnits(BaseModel):\n",
        "    time: str = Field(..., description=\"Unidade de tempo, geralmente ISO 8601\")\n",
        "    temperature_2m: str = Field(..., description=\"Unidade da temperatura em 2 metros\")\n",
        "\n",
        "class Hourly(BaseModel):\n",
        "    time: List[str] = Field(..., description=\"Lista de timestamps em formato ISO 8601\")\n",
        "    temperature_2m: List[float] = Field(..., description=\"Lista de temperaturas em 2 metros\")\n",
        "\n",
        "class OpenMeteo(BaseModel):\n",
        "    latitude: float = Field(..., description=\"Latitude da localização\")\n",
        "    longitude: float = Field(..., description=\"Longitude da localização\")\n",
        "    generationtime_ms: float = Field(..., description=\"Tempo de geração da resposta em milissegundos\")\n",
        "    utc_offset_seconds: int = Field(..., description=\"Diferença de UTC em segundos\")\n",
        "    timezone: str = Field(..., description=\"Fuso horário\")\n",
        "    timezone_abbreviation: str = Field(..., description=\"Abreviação do fuso horário\")\n",
        "    elevation: float = Field(..., description=\"Elevação em metros\")\n",
        "    hourly_units: HourlyUnits = Field(..., description=\"Unidades dos dados horários\")\n",
        "    hourly: Hourly = Field(..., description=\"Dados horários, incluindo tempo e temperatura\")\n",
        "\n",
        "response = {\n",
        "    \"latitude\": -19.5,\n",
        "    \"longitude\": -43.375,\n",
        "    \"generationtime_ms\": 0.01800060272216797,\n",
        "    \"utc_offset_seconds\": 0,\n",
        "    \"timezone\": \"GMT\",\n",
        "    \"timezone_abbreviation\": \"GMT\",\n",
        "    \"elevation\": 2.0,\n",
        "    \"hourly_units\": {\n",
        "        \"time\": \"iso8601\",\n",
        "        \"temperature_2m\": \"°C\"\n",
        "    },\n",
        "    \"hourly\": {\n",
        "        \"time\": [\n",
        "            \"2024-07-19T00:00\",\n",
        "            \"2024-07-19T01:00\",\n",
        "            \"2024-07-19T02:00\",\n",
        "        ],\n",
        "        \"temperature_2m\": [\n",
        "            21.9,\n",
        "            20.9,\n",
        "            20.0,\n",
        "        ]\n",
        "    }\n",
        "}\n",
        "\n",
        "dados = OpenMeteo(**response)\n",
        "\n",
        "print(dados)\n"
      ]
    },
    {
      "cell_type": "markdown",
      "metadata": {
        "id": "KVDQ9ZNdfBR6"
      },
      "source": [
        "#### Q4.\n",
        "\n",
        "Com os dados carregados na questão anterior plote um gráfico de linha, com a biblioteca de sua preferência, onde o eixo `x` são os timestamps (data e hora) e o eixo `y` é a temperatura medida."
      ]
    },
    {
      "cell_type": "code",
      "execution_count": null,
      "metadata": {
        "id": "hkz6rFK5fBR7",
        "outputId": "f8b243c3-433f-414f-b7fe-025bc449e8b8"
      },
      "outputs": [
        {
          "data": {
            "image/png": "[encoded data removed]",
            "text/plain": [
              "<Figure size 1000x500 with 1 Axes>"
            ]
          },
          "metadata": {},
          "output_type": "display_data"
        }
      ],
      "source": [
        "import matplotlib.pyplot as plt\n",
        "from datetime import datetime\n",
        "\n",
        "timestamps = [\n",
        "    \"2024-07-19T00:00\",\n",
        "    \"2024-07-19T01:00\",\n",
        "    \"2024-07-19T02:00\",\n",
        "]\n",
        "temperatures = [21.9, 20.9, 20.0]\n",
        "\n",
        "timestamps_dt = [datetime.fromisoformat(ts) for ts in timestamps]\n",
        "\n",
        "plt.figure(figsize=(10, 5))\n",
        "plt.plot(timestamps_dt, temperatures, marker='o', linestyle='-', color='b', label='Temperatura (°C)')\n",
        "plt.title(\"Temperatura ao longo do tempo (Itabira - MG)\")\n",
        "plt.xlabel(\"Timestamp\")\n",
        "plt.ylabel(\"Temperatura (°C)\")\n",
        "plt.xticks(rotation=45)\n",
        "plt.grid(True, linestyle=\"--\", alpha=0.7)\n",
        "plt.legend(loc=\"upper right\")\n",
        "plt.tight_layout()"
      ]
    }
  ],
  "metadata": {
    "kernelspec": {
      "display_name": "Python 3",
      "language": "python",
      "name": "python3"
    },
    "language_info": {
      "codemirror_mode": {
        "name": "ipython",
        "version": 3
      },
      "file_extension": ".py",
      "mimetype": "text/x-python",
      "name": "python",
      "nbconvert_exporter": "python",
      "pygments_lexer": "ipython3",
      "version": "3.12.8"
    },
    "colab": {
      "provenance": []
    }
  },
  "nbformat": 4,
  "nbformat_minor": 0
}